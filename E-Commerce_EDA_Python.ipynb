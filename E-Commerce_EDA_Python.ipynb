{
 "cells": [
  {
   "cell_type": "markdown",
   "metadata": {},
   "source": [
    "\n",
    "# E-Commerce – EDA – Python Project 2 \n"
   ]
  },
  {
   "cell_type": "markdown",
   "metadata": {},
   "source": [
    "# Context of Data\n",
    "\n",
    "Company - UK-based and registered non-store online retail\n",
    "\n",
    "Products for selling - Mainly all-occasion gifts\n",
    "\n",
    "Customers - Most are wholesalers (local or international)\n",
    "     \n",
    "Transactions Period - 1st Dec 2010 - 9th Dec 2011\n"
   ]
  },
  {
   "cell_type": "markdown",
   "metadata": {},
   "source": [
    "# Solutions for problem statments"
   ]
  },
  {
   "cell_type": "code",
   "execution_count": 1,
   "metadata": {
    "ExecuteTime": {
     "end_time": "2018-09-22T00:10:29.000774Z",
     "start_time": "2018-09-22T00:10:19.661701Z"
    }
   },
   "outputs": [],
   "source": [
    "import pandas as pd \n",
    "import numpy as np\n",
    "import matplotlib.pyplot as plt\n",
    "import seaborn as sns \n",
    "\n",
    "import warnings\n",
    "\n",
    "warnings.filterwarnings('ignore')\n",
    "sns.set_style('whitegrid')\n",
    "\n",
    "import missingno as msno # missing data visualization module for Python\n",
    "import pandas_profiling\n",
    "\n",
    "import gc\n",
    "import datetime\n",
    "\n",
    "%matplotlib inline\n",
    "color = sns.color_palette()"
   ]
  },
  {
   "cell_type": "code",
   "execution_count": 2,
   "metadata": {
    "ExecuteTime": {
     "end_time": "2018-09-22T00:10:29.010781Z",
     "start_time": "2018-09-22T00:10:29.004277Z"
    }
   },
   "outputs": [],
   "source": [
    "pd.set_option('display.max_rows', 10000)\n",
    "pd.set_option('display.max_columns', 100)"
   ]
  },
  {
   "cell_type": "code",
   "execution_count": 3,
   "metadata": {
    "ExecuteTime": {
     "end_time": "2018-09-22T00:10:30.185270Z",
     "start_time": "2018-09-22T00:10:29.015283Z"
    }
   },
   "outputs": [],
   "source": [
    "# specify encoding to deal with different formatsPython Assigenment_1\n",
    "df = pd.read_csv('C:/Users/salma/OneDrive/Documents/Desktop/Python Assigenment_1/Python Assignment_2/Ecommerce - UK Retailer.csv', encoding = 'ISO-8859-1')"
   ]
  },
  {
   "cell_type": "markdown",
   "metadata": {},
   "source": [
    "## 1. Perform Basic EDA"
   ]
  },
  {
   "cell_type": "code",
   "execution_count": 4,
   "metadata": {
    "ExecuteTime": {
     "end_time": "2018-09-22T00:38:49.567636Z",
     "start_time": "2018-09-22T00:38:49.457557Z"
    }
   },
   "outputs": [
    {
     "data": {
      "text/html": [
       "<div>\n",
       "<style scoped>\n",
       "    .dataframe tbody tr th:only-of-type {\n",
       "        vertical-align: middle;\n",
       "    }\n",
       "\n",
       "    .dataframe tbody tr th {\n",
       "        vertical-align: top;\n",
       "    }\n",
       "\n",
       "    .dataframe thead th {\n",
       "        text-align: right;\n",
       "    }\n",
       "</style>\n",
       "<table border=\"1\" class=\"dataframe\">\n",
       "  <thead>\n",
       "    <tr style=\"text-align: right;\">\n",
       "      <th></th>\n",
       "      <th>InvoiceNo</th>\n",
       "      <th>StockCode</th>\n",
       "      <th>Description</th>\n",
       "      <th>Quantity</th>\n",
       "      <th>InvoiceDate</th>\n",
       "      <th>UnitPrice</th>\n",
       "      <th>CustomerID</th>\n",
       "      <th>Country</th>\n",
       "    </tr>\n",
       "  </thead>\n",
       "  <tbody>\n",
       "    <tr>\n",
       "      <th>0</th>\n",
       "      <td>536365</td>\n",
       "      <td>85123A</td>\n",
       "      <td>WHITE HANGING HEART T-LIGHT HOLDER</td>\n",
       "      <td>6</td>\n",
       "      <td>12/1/2010 8:26</td>\n",
       "      <td>2.55</td>\n",
       "      <td>17850.0</td>\n",
       "      <td>United Kingdom</td>\n",
       "    </tr>\n",
       "    <tr>\n",
       "      <th>1</th>\n",
       "      <td>536365</td>\n",
       "      <td>71053</td>\n",
       "      <td>WHITE METAL LANTERN</td>\n",
       "      <td>6</td>\n",
       "      <td>12/1/2010 8:26</td>\n",
       "      <td>3.39</td>\n",
       "      <td>17850.0</td>\n",
       "      <td>United Kingdom</td>\n",
       "    </tr>\n",
       "    <tr>\n",
       "      <th>2</th>\n",
       "      <td>536365</td>\n",
       "      <td>84406B</td>\n",
       "      <td>CREAM CUPID HEARTS COAT HANGER</td>\n",
       "      <td>8</td>\n",
       "      <td>12/1/2010 8:26</td>\n",
       "      <td>2.75</td>\n",
       "      <td>17850.0</td>\n",
       "      <td>United Kingdom</td>\n",
       "    </tr>\n",
       "    <tr>\n",
       "      <th>3</th>\n",
       "      <td>536365</td>\n",
       "      <td>84029G</td>\n",
       "      <td>KNITTED UNION FLAG HOT WATER BOTTLE</td>\n",
       "      <td>6</td>\n",
       "      <td>12/1/2010 8:26</td>\n",
       "      <td>3.39</td>\n",
       "      <td>17850.0</td>\n",
       "      <td>United Kingdom</td>\n",
       "    </tr>\n",
       "    <tr>\n",
       "      <th>4</th>\n",
       "      <td>536365</td>\n",
       "      <td>84029E</td>\n",
       "      <td>RED WOOLLY HOTTIE WHITE HEART.</td>\n",
       "      <td>6</td>\n",
       "      <td>12/1/2010 8:26</td>\n",
       "      <td>3.39</td>\n",
       "      <td>17850.0</td>\n",
       "      <td>United Kingdom</td>\n",
       "    </tr>\n",
       "  </tbody>\n",
       "</table>\n",
       "</div>"
      ],
      "text/plain": [
       "  InvoiceNo StockCode                          Description  Quantity  \\\n",
       "0    536365    85123A   WHITE HANGING HEART T-LIGHT HOLDER         6   \n",
       "1    536365     71053                  WHITE METAL LANTERN         6   \n",
       "2    536365    84406B       CREAM CUPID HEARTS COAT HANGER         8   \n",
       "3    536365    84029G  KNITTED UNION FLAG HOT WATER BOTTLE         6   \n",
       "4    536365    84029E       RED WOOLLY HOTTIE WHITE HEART.         6   \n",
       "\n",
       "      InvoiceDate  UnitPrice  CustomerID         Country  \n",
       "0  12/1/2010 8:26       2.55     17850.0  United Kingdom  \n",
       "1  12/1/2010 8:26       3.39     17850.0  United Kingdom  \n",
       "2  12/1/2010 8:26       2.75     17850.0  United Kingdom  \n",
       "3  12/1/2010 8:26       3.39     17850.0  United Kingdom  \n",
       "4  12/1/2010 8:26       3.39     17850.0  United Kingdom  "
      ]
     },
     "execution_count": 4,
     "metadata": {},
     "output_type": "execute_result"
    }
   ],
   "source": [
    "df.head()"
   ]
  },
  {
   "cell_type": "code",
   "execution_count": 5,
   "metadata": {
    "ExecuteTime": {
     "end_time": "2018-09-22T00:10:30.571513Z",
     "start_time": "2018-09-22T00:10:30.224806Z"
    }
   },
   "outputs": [],
   "source": [
    "# change the column names\n",
    "df.rename(index=str, columns={'InvoiceNo': 'invoice_num',\n",
    "                              'StockCode' : 'stock_code',\n",
    "                              'Description' : 'description',\n",
    "                              'Quantity' : 'quantity',\n",
    "                              'InvoiceDate' : 'invoice_date',\n",
    "                              'UnitPrice' : 'unit_price',\n",
    "                              'CustomerID' : 'cust_id',\n",
    "                              'Country' : 'country'}, inplace=True)"
   ]
  },
  {
   "cell_type": "markdown",
   "metadata": {},
   "source": [
    "Column name changed for ease of accessing"
   ]
  },
  {
   "cell_type": "code",
   "execution_count": 6,
   "metadata": {
    "ExecuteTime": {
     "end_time": "2018-09-22T00:10:30.596533Z",
     "start_time": "2018-09-22T00:10:30.575517Z"
    }
   },
   "outputs": [
    {
     "data": {
      "text/html": [
       "<div>\n",
       "<style scoped>\n",
       "    .dataframe tbody tr th:only-of-type {\n",
       "        vertical-align: middle;\n",
       "    }\n",
       "\n",
       "    .dataframe tbody tr th {\n",
       "        vertical-align: top;\n",
       "    }\n",
       "\n",
       "    .dataframe thead th {\n",
       "        text-align: right;\n",
       "    }\n",
       "</style>\n",
       "<table border=\"1\" class=\"dataframe\">\n",
       "  <thead>\n",
       "    <tr style=\"text-align: right;\">\n",
       "      <th></th>\n",
       "      <th>invoice_num</th>\n",
       "      <th>stock_code</th>\n",
       "      <th>description</th>\n",
       "      <th>quantity</th>\n",
       "      <th>invoice_date</th>\n",
       "      <th>unit_price</th>\n",
       "      <th>cust_id</th>\n",
       "      <th>country</th>\n",
       "    </tr>\n",
       "  </thead>\n",
       "  <tbody>\n",
       "    <tr>\n",
       "      <th>0</th>\n",
       "      <td>536365</td>\n",
       "      <td>85123A</td>\n",
       "      <td>WHITE HANGING HEART T-LIGHT HOLDER</td>\n",
       "      <td>6</td>\n",
       "      <td>12/1/2010 8:26</td>\n",
       "      <td>2.55</td>\n",
       "      <td>17850.0</td>\n",
       "      <td>United Kingdom</td>\n",
       "    </tr>\n",
       "    <tr>\n",
       "      <th>1</th>\n",
       "      <td>536365</td>\n",
       "      <td>71053</td>\n",
       "      <td>WHITE METAL LANTERN</td>\n",
       "      <td>6</td>\n",
       "      <td>12/1/2010 8:26</td>\n",
       "      <td>3.39</td>\n",
       "      <td>17850.0</td>\n",
       "      <td>United Kingdom</td>\n",
       "    </tr>\n",
       "    <tr>\n",
       "      <th>2</th>\n",
       "      <td>536365</td>\n",
       "      <td>84406B</td>\n",
       "      <td>CREAM CUPID HEARTS COAT HANGER</td>\n",
       "      <td>8</td>\n",
       "      <td>12/1/2010 8:26</td>\n",
       "      <td>2.75</td>\n",
       "      <td>17850.0</td>\n",
       "      <td>United Kingdom</td>\n",
       "    </tr>\n",
       "    <tr>\n",
       "      <th>3</th>\n",
       "      <td>536365</td>\n",
       "      <td>84029G</td>\n",
       "      <td>KNITTED UNION FLAG HOT WATER BOTTLE</td>\n",
       "      <td>6</td>\n",
       "      <td>12/1/2010 8:26</td>\n",
       "      <td>3.39</td>\n",
       "      <td>17850.0</td>\n",
       "      <td>United Kingdom</td>\n",
       "    </tr>\n",
       "    <tr>\n",
       "      <th>4</th>\n",
       "      <td>536365</td>\n",
       "      <td>84029E</td>\n",
       "      <td>RED WOOLLY HOTTIE WHITE HEART.</td>\n",
       "      <td>6</td>\n",
       "      <td>12/1/2010 8:26</td>\n",
       "      <td>3.39</td>\n",
       "      <td>17850.0</td>\n",
       "      <td>United Kingdom</td>\n",
       "    </tr>\n",
       "  </tbody>\n",
       "</table>\n",
       "</div>"
      ],
      "text/plain": [
       "  invoice_num stock_code                          description  quantity  \\\n",
       "0      536365     85123A   WHITE HANGING HEART T-LIGHT HOLDER         6   \n",
       "1      536365      71053                  WHITE METAL LANTERN         6   \n",
       "2      536365     84406B       CREAM CUPID HEARTS COAT HANGER         8   \n",
       "3      536365     84029G  KNITTED UNION FLAG HOT WATER BOTTLE         6   \n",
       "4      536365     84029E       RED WOOLLY HOTTIE WHITE HEART.         6   \n",
       "\n",
       "     invoice_date  unit_price  cust_id         country  \n",
       "0  12/1/2010 8:26        2.55  17850.0  United Kingdom  \n",
       "1  12/1/2010 8:26        3.39  17850.0  United Kingdom  \n",
       "2  12/1/2010 8:26        2.75  17850.0  United Kingdom  \n",
       "3  12/1/2010 8:26        3.39  17850.0  United Kingdom  \n",
       "4  12/1/2010 8:26        3.39  17850.0  United Kingdom  "
      ]
     },
     "execution_count": 6,
     "metadata": {},
     "output_type": "execute_result"
    }
   ],
   "source": [
    "df.head()"
   ]
  },
  {
   "cell_type": "code",
   "execution_count": 7,
   "metadata": {},
   "outputs": [],
   "source": [
    "# change the invoice_date format - String to Timestamp format\n",
    "df['invoice_date'] = pd.to_datetime(df.invoice_date, format='%m/%d/%Y %H:%M')"
   ]
  },
  {
   "cell_type": "code",
   "execution_count": 8,
   "metadata": {},
   "outputs": [],
   "source": [
    "# change description - UPPER case to LOWER case\n",
    "df['description'] = df.description.str.lower()"
   ]
  },
  {
   "cell_type": "code",
   "execution_count": 9,
   "metadata": {},
   "outputs": [
    {
     "data": {
      "text/html": [
       "<div>\n",
       "<style scoped>\n",
       "    .dataframe tbody tr th:only-of-type {\n",
       "        vertical-align: middle;\n",
       "    }\n",
       "\n",
       "    .dataframe tbody tr th {\n",
       "        vertical-align: top;\n",
       "    }\n",
       "\n",
       "    .dataframe thead th {\n",
       "        text-align: right;\n",
       "    }\n",
       "</style>\n",
       "<table border=\"1\" class=\"dataframe\">\n",
       "  <thead>\n",
       "    <tr style=\"text-align: right;\">\n",
       "      <th></th>\n",
       "      <th>invoice_num</th>\n",
       "      <th>stock_code</th>\n",
       "      <th>description</th>\n",
       "      <th>quantity</th>\n",
       "      <th>invoice_date</th>\n",
       "      <th>unit_price</th>\n",
       "      <th>cust_id</th>\n",
       "      <th>country</th>\n",
       "    </tr>\n",
       "  </thead>\n",
       "  <tbody>\n",
       "    <tr>\n",
       "      <th>0</th>\n",
       "      <td>536365</td>\n",
       "      <td>85123A</td>\n",
       "      <td>white hanging heart t-light holder</td>\n",
       "      <td>6</td>\n",
       "      <td>2010-12-01 08:26:00</td>\n",
       "      <td>2.55</td>\n",
       "      <td>17850.0</td>\n",
       "      <td>United Kingdom</td>\n",
       "    </tr>\n",
       "    <tr>\n",
       "      <th>1</th>\n",
       "      <td>536365</td>\n",
       "      <td>71053</td>\n",
       "      <td>white metal lantern</td>\n",
       "      <td>6</td>\n",
       "      <td>2010-12-01 08:26:00</td>\n",
       "      <td>3.39</td>\n",
       "      <td>17850.0</td>\n",
       "      <td>United Kingdom</td>\n",
       "    </tr>\n",
       "    <tr>\n",
       "      <th>2</th>\n",
       "      <td>536365</td>\n",
       "      <td>84406B</td>\n",
       "      <td>cream cupid hearts coat hanger</td>\n",
       "      <td>8</td>\n",
       "      <td>2010-12-01 08:26:00</td>\n",
       "      <td>2.75</td>\n",
       "      <td>17850.0</td>\n",
       "      <td>United Kingdom</td>\n",
       "    </tr>\n",
       "    <tr>\n",
       "      <th>3</th>\n",
       "      <td>536365</td>\n",
       "      <td>84029G</td>\n",
       "      <td>knitted union flag hot water bottle</td>\n",
       "      <td>6</td>\n",
       "      <td>2010-12-01 08:26:00</td>\n",
       "      <td>3.39</td>\n",
       "      <td>17850.0</td>\n",
       "      <td>United Kingdom</td>\n",
       "    </tr>\n",
       "    <tr>\n",
       "      <th>4</th>\n",
       "      <td>536365</td>\n",
       "      <td>84029E</td>\n",
       "      <td>red woolly hottie white heart.</td>\n",
       "      <td>6</td>\n",
       "      <td>2010-12-01 08:26:00</td>\n",
       "      <td>3.39</td>\n",
       "      <td>17850.0</td>\n",
       "      <td>United Kingdom</td>\n",
       "    </tr>\n",
       "  </tbody>\n",
       "</table>\n",
       "</div>"
      ],
      "text/plain": [
       "  invoice_num stock_code                          description  quantity  \\\n",
       "0      536365     85123A   white hanging heart t-light holder         6   \n",
       "1      536365      71053                  white metal lantern         6   \n",
       "2      536365     84406B       cream cupid hearts coat hanger         8   \n",
       "3      536365     84029G  knitted union flag hot water bottle         6   \n",
       "4      536365     84029E       red woolly hottie white heart.         6   \n",
       "\n",
       "         invoice_date  unit_price  cust_id         country  \n",
       "0 2010-12-01 08:26:00        2.55  17850.0  United Kingdom  \n",
       "1 2010-12-01 08:26:00        3.39  17850.0  United Kingdom  \n",
       "2 2010-12-01 08:26:00        2.75  17850.0  United Kingdom  \n",
       "3 2010-12-01 08:26:00        3.39  17850.0  United Kingdom  \n",
       "4 2010-12-01 08:26:00        3.39  17850.0  United Kingdom  "
      ]
     },
     "execution_count": 9,
     "metadata": {},
     "output_type": "execute_result"
    }
   ],
   "source": [
    "df.head()"
   ]
  },
  {
   "cell_type": "code",
   "execution_count": 10,
   "metadata": {},
   "outputs": [
    {
     "name": "stdout",
     "output_type": "stream",
     "text": [
      "<class 'pandas.core.frame.DataFrame'>\n",
      "Index: 541909 entries, 0 to 541908\n",
      "Data columns (total 8 columns):\n",
      " #   Column        Non-Null Count   Dtype         \n",
      "---  ------        --------------   -----         \n",
      " 0   invoice_num   541909 non-null  object        \n",
      " 1   stock_code    541909 non-null  object        \n",
      " 2   description   540455 non-null  object        \n",
      " 3   quantity      541909 non-null  int64         \n",
      " 4   invoice_date  541909 non-null  datetime64[ns]\n",
      " 5   unit_price    541909 non-null  float64       \n",
      " 6   cust_id       406829 non-null  float64       \n",
      " 7   country       541909 non-null  object        \n",
      "dtypes: datetime64[ns](1), float64(2), int64(1), object(4)\n",
      "memory usage: 37.2+ MB\n"
     ]
    }
   ],
   "source": [
    "df.info()"
   ]
  },
  {
   "cell_type": "markdown",
   "metadata": {},
   "source": [
    "### Data Cleaning "
   ]
  },
  {
   "cell_type": "code",
   "execution_count": 11,
   "metadata": {
    "ExecuteTime": {
     "end_time": "2018-09-22T00:10:30.997318Z",
     "start_time": "2018-09-22T00:10:30.600534Z"
    }
   },
   "outputs": [
    {
     "name": "stdout",
     "output_type": "stream",
     "text": [
      "<class 'pandas.core.frame.DataFrame'>\n",
      "Index: 541909 entries, 0 to 541908\n",
      "Data columns (total 8 columns):\n",
      " #   Column        Non-Null Count   Dtype         \n",
      "---  ------        --------------   -----         \n",
      " 0   invoice_num   541909 non-null  object        \n",
      " 1   stock_code    541909 non-null  object        \n",
      " 2   description   540455 non-null  object        \n",
      " 3   quantity      541909 non-null  int64         \n",
      " 4   invoice_date  541909 non-null  datetime64[ns]\n",
      " 5   unit_price    541909 non-null  float64       \n",
      " 6   cust_id       406829 non-null  float64       \n",
      " 7   country       541909 non-null  object        \n",
      "dtypes: datetime64[ns](1), float64(2), int64(1), object(4)\n",
      "memory usage: 37.2+ MB\n"
     ]
    }
   ],
   "source": [
    "df.info()"
   ]
  },
  {
   "cell_type": "markdown",
   "metadata": {},
   "source": [
    "#cust_id has some missing values"
   ]
  },
  {
   "cell_type": "markdown",
   "metadata": {},
   "source": [
    "## 2. Check for missing values in all columns and replace them with the appropriate metric\n",
    "## (Mean/Median/Mode) "
   ]
  },
  {
   "cell_type": "code",
   "execution_count": 12,
   "metadata": {
    "ExecuteTime": {
     "end_time": "2018-09-22T00:10:31.365232Z",
     "start_time": "2018-09-22T00:10:31.003823Z"
    }
   },
   "outputs": [
    {
     "data": {
      "text/plain": [
       "cust_id         135080\n",
       "description       1454\n",
       "invoice_num          0\n",
       "stock_code           0\n",
       "quantity             0\n",
       "invoice_date         0\n",
       "unit_price           0\n",
       "country              0\n",
       "dtype: int64"
      ]
     },
     "execution_count": 12,
     "metadata": {},
     "output_type": "execute_result"
    }
   ],
   "source": [
    "df.isnull().sum().sort_values(ascending=False)"
   ]
  },
  {
   "cell_type": "code",
   "execution_count": 13,
   "metadata": {
    "ExecuteTime": {
     "end_time": "2018-09-22T00:10:31.728176Z",
     "start_time": "2018-09-22T00:10:31.370235Z"
    }
   },
   "outputs": [
    {
     "data": {
      "text/html": [
       "<div>\n",
       "<style scoped>\n",
       "    .dataframe tbody tr th:only-of-type {\n",
       "        vertical-align: middle;\n",
       "    }\n",
       "\n",
       "    .dataframe tbody tr th {\n",
       "        vertical-align: top;\n",
       "    }\n",
       "\n",
       "    .dataframe thead th {\n",
       "        text-align: right;\n",
       "    }\n",
       "</style>\n",
       "<table border=\"1\" class=\"dataframe\">\n",
       "  <thead>\n",
       "    <tr style=\"text-align: right;\">\n",
       "      <th></th>\n",
       "      <th>invoice_num</th>\n",
       "      <th>stock_code</th>\n",
       "      <th>description</th>\n",
       "      <th>quantity</th>\n",
       "      <th>invoice_date</th>\n",
       "      <th>unit_price</th>\n",
       "      <th>cust_id</th>\n",
       "      <th>country</th>\n",
       "    </tr>\n",
       "  </thead>\n",
       "  <tbody>\n",
       "    <tr>\n",
       "      <th>622</th>\n",
       "      <td>536414</td>\n",
       "      <td>22139</td>\n",
       "      <td>NaN</td>\n",
       "      <td>56</td>\n",
       "      <td>2010-12-01 11:52:00</td>\n",
       "      <td>0.00</td>\n",
       "      <td>NaN</td>\n",
       "      <td>United Kingdom</td>\n",
       "    </tr>\n",
       "    <tr>\n",
       "      <th>1443</th>\n",
       "      <td>536544</td>\n",
       "      <td>21773</td>\n",
       "      <td>decorative rose bathroom bottle</td>\n",
       "      <td>1</td>\n",
       "      <td>2010-12-01 14:32:00</td>\n",
       "      <td>2.51</td>\n",
       "      <td>NaN</td>\n",
       "      <td>United Kingdom</td>\n",
       "    </tr>\n",
       "    <tr>\n",
       "      <th>1444</th>\n",
       "      <td>536544</td>\n",
       "      <td>21774</td>\n",
       "      <td>decorative cats bathroom bottle</td>\n",
       "      <td>2</td>\n",
       "      <td>2010-12-01 14:32:00</td>\n",
       "      <td>2.51</td>\n",
       "      <td>NaN</td>\n",
       "      <td>United Kingdom</td>\n",
       "    </tr>\n",
       "    <tr>\n",
       "      <th>1445</th>\n",
       "      <td>536544</td>\n",
       "      <td>21786</td>\n",
       "      <td>polkadot rain hat</td>\n",
       "      <td>4</td>\n",
       "      <td>2010-12-01 14:32:00</td>\n",
       "      <td>0.85</td>\n",
       "      <td>NaN</td>\n",
       "      <td>United Kingdom</td>\n",
       "    </tr>\n",
       "    <tr>\n",
       "      <th>1446</th>\n",
       "      <td>536544</td>\n",
       "      <td>21787</td>\n",
       "      <td>rain poncho retrospot</td>\n",
       "      <td>2</td>\n",
       "      <td>2010-12-01 14:32:00</td>\n",
       "      <td>1.66</td>\n",
       "      <td>NaN</td>\n",
       "      <td>United Kingdom</td>\n",
       "    </tr>\n",
       "  </tbody>\n",
       "</table>\n",
       "</div>"
      ],
      "text/plain": [
       "     invoice_num stock_code                      description  quantity  \\\n",
       "622       536414      22139                              NaN        56   \n",
       "1443      536544      21773  decorative rose bathroom bottle         1   \n",
       "1444      536544      21774  decorative cats bathroom bottle         2   \n",
       "1445      536544      21786               polkadot rain hat          4   \n",
       "1446      536544      21787            rain poncho retrospot         2   \n",
       "\n",
       "            invoice_date  unit_price  cust_id         country  \n",
       "622  2010-12-01 11:52:00        0.00      NaN  United Kingdom  \n",
       "1443 2010-12-01 14:32:00        2.51      NaN  United Kingdom  \n",
       "1444 2010-12-01 14:32:00        2.51      NaN  United Kingdom  \n",
       "1445 2010-12-01 14:32:00        0.85      NaN  United Kingdom  \n",
       "1446 2010-12-01 14:32:00        1.66      NaN  United Kingdom  "
      ]
     },
     "execution_count": 13,
     "metadata": {},
     "output_type": "execute_result"
    }
   ],
   "source": [
    "# check out the rows with missing values\n",
    "df[df.isnull().any(axis=1)].head()"
   ]
  },
  {
   "cell_type": "markdown",
   "metadata": {},
   "source": [
    "### Remove rows with missing values "
   ]
  },
  {
   "cell_type": "code",
   "execution_count": 14,
   "metadata": {
    "ExecuteTime": {
     "end_time": "2018-09-22T00:10:35.559124Z",
     "start_time": "2018-09-22T00:10:35.015235Z"
    }
   },
   "outputs": [],
   "source": [
    "# df_new without missing values\n",
    "df_new = df.dropna()"
   ]
  },
  {
   "cell_type": "code",
   "execution_count": 15,
   "metadata": {},
   "outputs": [
    {
     "name": "stdout",
     "output_type": "stream",
     "text": [
      "<class 'pandas.core.frame.DataFrame'>\n",
      "Index: 406829 entries, 0 to 541908\n",
      "Data columns (total 8 columns):\n",
      " #   Column        Non-Null Count   Dtype         \n",
      "---  ------        --------------   -----         \n",
      " 0   invoice_num   406829 non-null  object        \n",
      " 1   stock_code    406829 non-null  object        \n",
      " 2   description   406829 non-null  object        \n",
      " 3   quantity      406829 non-null  int64         \n",
      " 4   invoice_date  406829 non-null  datetime64[ns]\n",
      " 5   unit_price    406829 non-null  float64       \n",
      " 6   cust_id       406829 non-null  float64       \n",
      " 7   country       406829 non-null  object        \n",
      "dtypes: datetime64[ns](1), float64(2), int64(1), object(4)\n",
      "memory usage: 27.9+ MB\n"
     ]
    }
   ],
   "source": [
    "df_new.info()"
   ]
  },
  {
   "cell_type": "code",
   "execution_count": 16,
   "metadata": {
    "ExecuteTime": {
     "end_time": "2018-09-22T00:10:35.854837Z",
     "start_time": "2018-09-22T00:10:35.564625Z"
    }
   },
   "outputs": [
    {
     "data": {
      "text/plain": [
       "invoice_num     0\n",
       "stock_code      0\n",
       "description     0\n",
       "quantity        0\n",
       "invoice_date    0\n",
       "unit_price      0\n",
       "cust_id         0\n",
       "country         0\n",
       "dtype: int64"
      ]
     },
     "execution_count": 16,
     "metadata": {},
     "output_type": "execute_result"
    }
   ],
   "source": [
    "# check missing values for each column \n",
    "df_new.isnull().sum().sort_values(ascending=False)"
   ]
  },
  {
   "cell_type": "markdown",
   "metadata": {},
   "source": [
    "## 3. Remove duplicate rows \n"
   ]
  },
  {
   "cell_type": "code",
   "execution_count": 17,
   "metadata": {},
   "outputs": [],
   "source": [
    "df_new=df_new.drop_duplicates()"
   ]
  },
  {
   "cell_type": "code",
   "execution_count": 18,
   "metadata": {
    "ExecuteTime": {
     "end_time": "2018-09-22T00:10:36.155825Z",
     "start_time": "2018-09-22T00:10:35.859340Z"
    }
   },
   "outputs": [
    {
     "name": "stdout",
     "output_type": "stream",
     "text": [
      "<class 'pandas.core.frame.DataFrame'>\n",
      "Index: 401604 entries, 0 to 541908\n",
      "Data columns (total 8 columns):\n",
      " #   Column        Non-Null Count   Dtype         \n",
      "---  ------        --------------   -----         \n",
      " 0   invoice_num   401604 non-null  object        \n",
      " 1   stock_code    401604 non-null  object        \n",
      " 2   description   401604 non-null  object        \n",
      " 3   quantity      401604 non-null  int64         \n",
      " 4   invoice_date  401604 non-null  datetime64[ns]\n",
      " 5   unit_price    401604 non-null  float64       \n",
      " 6   cust_id       401604 non-null  float64       \n",
      " 7   country       401604 non-null  object        \n",
      "dtypes: datetime64[ns](1), float64(2), int64(1), object(4)\n",
      "memory usage: 27.6+ MB\n"
     ]
    }
   ],
   "source": [
    "df_new.info()"
   ]
  },
  {
   "cell_type": "code",
   "execution_count": 19,
   "metadata": {
    "ExecuteTime": {
     "end_time": "2018-09-22T00:10:36.245889Z",
     "start_time": "2018-09-22T00:10:36.160329Z"
    }
   },
   "outputs": [],
   "source": [
    "# change columns tyoe - String to Int type \n",
    "df_new['cust_id'] = df_new['cust_id'].astype('int64')"
   ]
  },
  {
   "cell_type": "code",
   "execution_count": 20,
   "metadata": {
    "ExecuteTime": {
     "end_time": "2018-09-22T00:10:36.274908Z",
     "start_time": "2018-09-22T00:10:36.251393Z"
    }
   },
   "outputs": [
    {
     "data": {
      "text/html": [
       "<div>\n",
       "<style scoped>\n",
       "    .dataframe tbody tr th:only-of-type {\n",
       "        vertical-align: middle;\n",
       "    }\n",
       "\n",
       "    .dataframe tbody tr th {\n",
       "        vertical-align: top;\n",
       "    }\n",
       "\n",
       "    .dataframe thead th {\n",
       "        text-align: right;\n",
       "    }\n",
       "</style>\n",
       "<table border=\"1\" class=\"dataframe\">\n",
       "  <thead>\n",
       "    <tr style=\"text-align: right;\">\n",
       "      <th></th>\n",
       "      <th>invoice_num</th>\n",
       "      <th>stock_code</th>\n",
       "      <th>description</th>\n",
       "      <th>quantity</th>\n",
       "      <th>invoice_date</th>\n",
       "      <th>unit_price</th>\n",
       "      <th>cust_id</th>\n",
       "      <th>country</th>\n",
       "    </tr>\n",
       "  </thead>\n",
       "  <tbody>\n",
       "    <tr>\n",
       "      <th>0</th>\n",
       "      <td>536365</td>\n",
       "      <td>85123A</td>\n",
       "      <td>white hanging heart t-light holder</td>\n",
       "      <td>6</td>\n",
       "      <td>2010-12-01 08:26:00</td>\n",
       "      <td>2.55</td>\n",
       "      <td>17850</td>\n",
       "      <td>United Kingdom</td>\n",
       "    </tr>\n",
       "    <tr>\n",
       "      <th>1</th>\n",
       "      <td>536365</td>\n",
       "      <td>71053</td>\n",
       "      <td>white metal lantern</td>\n",
       "      <td>6</td>\n",
       "      <td>2010-12-01 08:26:00</td>\n",
       "      <td>3.39</td>\n",
       "      <td>17850</td>\n",
       "      <td>United Kingdom</td>\n",
       "    </tr>\n",
       "    <tr>\n",
       "      <th>2</th>\n",
       "      <td>536365</td>\n",
       "      <td>84406B</td>\n",
       "      <td>cream cupid hearts coat hanger</td>\n",
       "      <td>8</td>\n",
       "      <td>2010-12-01 08:26:00</td>\n",
       "      <td>2.75</td>\n",
       "      <td>17850</td>\n",
       "      <td>United Kingdom</td>\n",
       "    </tr>\n",
       "    <tr>\n",
       "      <th>3</th>\n",
       "      <td>536365</td>\n",
       "      <td>84029G</td>\n",
       "      <td>knitted union flag hot water bottle</td>\n",
       "      <td>6</td>\n",
       "      <td>2010-12-01 08:26:00</td>\n",
       "      <td>3.39</td>\n",
       "      <td>17850</td>\n",
       "      <td>United Kingdom</td>\n",
       "    </tr>\n",
       "    <tr>\n",
       "      <th>4</th>\n",
       "      <td>536365</td>\n",
       "      <td>84029E</td>\n",
       "      <td>red woolly hottie white heart.</td>\n",
       "      <td>6</td>\n",
       "      <td>2010-12-01 08:26:00</td>\n",
       "      <td>3.39</td>\n",
       "      <td>17850</td>\n",
       "      <td>United Kingdom</td>\n",
       "    </tr>\n",
       "  </tbody>\n",
       "</table>\n",
       "</div>"
      ],
      "text/plain": [
       "  invoice_num stock_code                          description  quantity  \\\n",
       "0      536365     85123A   white hanging heart t-light holder         6   \n",
       "1      536365      71053                  white metal lantern         6   \n",
       "2      536365     84406B       cream cupid hearts coat hanger         8   \n",
       "3      536365     84029G  knitted union flag hot water bottle         6   \n",
       "4      536365     84029E       red woolly hottie white heart.         6   \n",
       "\n",
       "         invoice_date  unit_price  cust_id         country  \n",
       "0 2010-12-01 08:26:00        2.55    17850  United Kingdom  \n",
       "1 2010-12-01 08:26:00        3.39    17850  United Kingdom  \n",
       "2 2010-12-01 08:26:00        2.75    17850  United Kingdom  \n",
       "3 2010-12-01 08:26:00        3.39    17850  United Kingdom  \n",
       "4 2010-12-01 08:26:00        3.39    17850  United Kingdom  "
      ]
     },
     "execution_count": 20,
     "metadata": {},
     "output_type": "execute_result"
    }
   ],
   "source": [
    "df_new.head()"
   ]
  },
  {
   "cell_type": "code",
   "execution_count": 21,
   "metadata": {
    "ExecuteTime": {
     "end_time": "2018-09-22T00:10:36.580636Z",
     "start_time": "2018-09-22T00:10:36.278911Z"
    }
   },
   "outputs": [
    {
     "name": "stdout",
     "output_type": "stream",
     "text": [
      "<class 'pandas.core.frame.DataFrame'>\n",
      "Index: 401604 entries, 0 to 541908\n",
      "Data columns (total 8 columns):\n",
      " #   Column        Non-Null Count   Dtype         \n",
      "---  ------        --------------   -----         \n",
      " 0   invoice_num   401604 non-null  object        \n",
      " 1   stock_code    401604 non-null  object        \n",
      " 2   description   401604 non-null  object        \n",
      " 3   quantity      401604 non-null  int64         \n",
      " 4   invoice_date  401604 non-null  datetime64[ns]\n",
      " 5   unit_price    401604 non-null  float64       \n",
      " 6   cust_id       401604 non-null  int64         \n",
      " 7   country       401604 non-null  object        \n",
      "dtypes: datetime64[ns](1), float64(1), int64(2), object(4)\n",
      "memory usage: 27.6+ MB\n"
     ]
    }
   ],
   "source": [
    "df_new.info()"
   ]
  },
  {
   "cell_type": "code",
   "execution_count": 22,
   "metadata": {
    "ExecuteTime": {
     "end_time": "2018-09-22T00:10:36.780279Z",
     "start_time": "2018-09-22T00:10:36.584637Z"
    }
   },
   "outputs": [
    {
     "data": {
      "text/html": [
       "<div>\n",
       "<style scoped>\n",
       "    .dataframe tbody tr th:only-of-type {\n",
       "        vertical-align: middle;\n",
       "    }\n",
       "\n",
       "    .dataframe tbody tr th {\n",
       "        vertical-align: top;\n",
       "    }\n",
       "\n",
       "    .dataframe thead th {\n",
       "        text-align: right;\n",
       "    }\n",
       "</style>\n",
       "<table border=\"1\" class=\"dataframe\">\n",
       "  <thead>\n",
       "    <tr style=\"text-align: right;\">\n",
       "      <th></th>\n",
       "      <th>quantity</th>\n",
       "      <th>unit_price</th>\n",
       "      <th>cust_id</th>\n",
       "    </tr>\n",
       "  </thead>\n",
       "  <tbody>\n",
       "    <tr>\n",
       "      <th>count</th>\n",
       "      <td>401604.00</td>\n",
       "      <td>401604.00</td>\n",
       "      <td>401604.00</td>\n",
       "    </tr>\n",
       "    <tr>\n",
       "      <th>mean</th>\n",
       "      <td>12.18</td>\n",
       "      <td>3.47</td>\n",
       "      <td>15281.16</td>\n",
       "    </tr>\n",
       "    <tr>\n",
       "      <th>std</th>\n",
       "      <td>250.28</td>\n",
       "      <td>69.76</td>\n",
       "      <td>1714.01</td>\n",
       "    </tr>\n",
       "    <tr>\n",
       "      <th>min</th>\n",
       "      <td>-80995.00</td>\n",
       "      <td>0.00</td>\n",
       "      <td>12346.00</td>\n",
       "    </tr>\n",
       "    <tr>\n",
       "      <th>25%</th>\n",
       "      <td>2.00</td>\n",
       "      <td>1.25</td>\n",
       "      <td>13939.00</td>\n",
       "    </tr>\n",
       "    <tr>\n",
       "      <th>50%</th>\n",
       "      <td>5.00</td>\n",
       "      <td>1.95</td>\n",
       "      <td>15145.00</td>\n",
       "    </tr>\n",
       "    <tr>\n",
       "      <th>75%</th>\n",
       "      <td>12.00</td>\n",
       "      <td>3.75</td>\n",
       "      <td>16784.00</td>\n",
       "    </tr>\n",
       "    <tr>\n",
       "      <th>max</th>\n",
       "      <td>80995.00</td>\n",
       "      <td>38970.00</td>\n",
       "      <td>18287.00</td>\n",
       "    </tr>\n",
       "  </tbody>\n",
       "</table>\n",
       "</div>"
      ],
      "text/plain": [
       "        quantity  unit_price    cust_id\n",
       "count  401604.00   401604.00  401604.00\n",
       "mean       12.18        3.47   15281.16\n",
       "std       250.28       69.76    1714.01\n",
       "min    -80995.00        0.00   12346.00\n",
       "25%         2.00        1.25   13939.00\n",
       "50%         5.00        1.95   15145.00\n",
       "75%        12.00        3.75   16784.00\n",
       "max     80995.00    38970.00   18287.00"
      ]
     },
     "execution_count": 22,
     "metadata": {},
     "output_type": "execute_result"
    }
   ],
   "source": [
    "df_new.describe().round(2)"
   ]
  },
  {
   "cell_type": "markdown",
   "metadata": {},
   "source": [
    "## 4. Remove rows which have negative values in Quantity column \n"
   ]
  },
  {
   "cell_type": "code",
   "execution_count": 23,
   "metadata": {
    "ExecuteTime": {
     "end_time": "2018-09-22T00:10:36.858332Z",
     "start_time": "2018-09-22T00:10:36.784282Z"
    }
   },
   "outputs": [],
   "source": [
    "df_new = df_new[df_new.quantity > 0] #Values less than 0 Will be negative"
   ]
  },
  {
   "cell_type": "code",
   "execution_count": 24,
   "metadata": {
    "ExecuteTime": {
     "end_time": "2018-09-22T00:10:37.020948Z",
     "start_time": "2018-09-22T00:10:36.861835Z"
    }
   },
   "outputs": [
    {
     "data": {
      "text/html": [
       "<div>\n",
       "<style scoped>\n",
       "    .dataframe tbody tr th:only-of-type {\n",
       "        vertical-align: middle;\n",
       "    }\n",
       "\n",
       "    .dataframe tbody tr th {\n",
       "        vertical-align: top;\n",
       "    }\n",
       "\n",
       "    .dataframe thead th {\n",
       "        text-align: right;\n",
       "    }\n",
       "</style>\n",
       "<table border=\"1\" class=\"dataframe\">\n",
       "  <thead>\n",
       "    <tr style=\"text-align: right;\">\n",
       "      <th></th>\n",
       "      <th>quantity</th>\n",
       "      <th>unit_price</th>\n",
       "      <th>cust_id</th>\n",
       "    </tr>\n",
       "  </thead>\n",
       "  <tbody>\n",
       "    <tr>\n",
       "      <th>count</th>\n",
       "      <td>392732.00</td>\n",
       "      <td>392732.00</td>\n",
       "      <td>392732.00</td>\n",
       "    </tr>\n",
       "    <tr>\n",
       "      <th>mean</th>\n",
       "      <td>13.15</td>\n",
       "      <td>3.13</td>\n",
       "      <td>15287.73</td>\n",
       "    </tr>\n",
       "    <tr>\n",
       "      <th>std</th>\n",
       "      <td>181.59</td>\n",
       "      <td>22.24</td>\n",
       "      <td>1713.57</td>\n",
       "    </tr>\n",
       "    <tr>\n",
       "      <th>min</th>\n",
       "      <td>1.00</td>\n",
       "      <td>0.00</td>\n",
       "      <td>12346.00</td>\n",
       "    </tr>\n",
       "    <tr>\n",
       "      <th>25%</th>\n",
       "      <td>2.00</td>\n",
       "      <td>1.25</td>\n",
       "      <td>13955.00</td>\n",
       "    </tr>\n",
       "    <tr>\n",
       "      <th>50%</th>\n",
       "      <td>6.00</td>\n",
       "      <td>1.95</td>\n",
       "      <td>15150.00</td>\n",
       "    </tr>\n",
       "    <tr>\n",
       "      <th>75%</th>\n",
       "      <td>12.00</td>\n",
       "      <td>3.75</td>\n",
       "      <td>16791.00</td>\n",
       "    </tr>\n",
       "    <tr>\n",
       "      <th>max</th>\n",
       "      <td>80995.00</td>\n",
       "      <td>8142.75</td>\n",
       "      <td>18287.00</td>\n",
       "    </tr>\n",
       "  </tbody>\n",
       "</table>\n",
       "</div>"
      ],
      "text/plain": [
       "        quantity  unit_price    cust_id\n",
       "count  392732.00   392732.00  392732.00\n",
       "mean       13.15        3.13   15287.73\n",
       "std       181.59       22.24    1713.57\n",
       "min         1.00        0.00   12346.00\n",
       "25%         2.00        1.25   13955.00\n",
       "50%         6.00        1.95   15150.00\n",
       "75%        12.00        3.75   16791.00\n",
       "max     80995.00     8142.75   18287.00"
      ]
     },
     "execution_count": 24,
     "metadata": {},
     "output_type": "execute_result"
    }
   ],
   "source": [
    "df_new.describe().round(2)"
   ]
  },
  {
   "cell_type": "markdown",
   "metadata": {},
   "source": [
    "### Add the column - amount_spent "
   ]
  },
  {
   "cell_type": "code",
   "execution_count": 25,
   "metadata": {
    "ExecuteTime": {
     "end_time": "2018-09-22T00:10:37.227594Z",
     "start_time": "2018-09-22T00:10:37.024952Z"
    }
   },
   "outputs": [],
   "source": [
    "df_new['amount_spent'] = df_new['quantity'] * df_new['unit_price']"
   ]
  },
  {
   "cell_type": "code",
   "execution_count": 26,
   "metadata": {
    "ExecuteTime": {
     "end_time": "2018-09-22T00:10:37.290639Z",
     "start_time": "2018-09-22T00:10:37.231096Z"
    }
   },
   "outputs": [],
   "source": [
    "# rearrange all the columns for easy reference\n",
    "df_new = df_new[['invoice_num','invoice_date','stock_code','description','quantity','unit_price','amount_spent','cust_id','country']]"
   ]
  },
  {
   "cell_type": "markdown",
   "metadata": {},
   "source": [
    "## 5. Add the columns - Month, Day and Hour for the invoice "
   ]
  },
  {
   "cell_type": "code",
   "execution_count": 27,
   "metadata": {
    "ExecuteTime": {
     "end_time": "2018-09-22T00:10:39.690642Z",
     "start_time": "2018-09-22T00:10:37.293642Z"
    }
   },
   "outputs": [],
   "source": [
    "df_new.insert(loc=2, column='year_month', value=df_new['invoice_date'].map(lambda x: 100*x.year + x.month))\n",
    "df_new.insert(loc=3, column='month', value=df_new.invoice_date.dt.month)# +1 to make Monday=1.....until Sunday=7\n",
    "df_new.insert(loc=4, column='day', value=(df_new.invoice_date.dt.dayofweek)+1)\n",
    "df_new.insert(loc=5, column='hour', value=df_new.invoice_date.dt.hour)"
   ]
  },
  {
   "cell_type": "code",
   "execution_count": 28,
   "metadata": {
    "ExecuteTime": {
     "end_time": "2018-09-22T00:10:39.730176Z",
     "start_time": "2018-09-22T00:10:39.693644Z"
    }
   },
   "outputs": [
    {
     "data": {
      "text/html": [
       "<div>\n",
       "<style scoped>\n",
       "    .dataframe tbody tr th:only-of-type {\n",
       "        vertical-align: middle;\n",
       "    }\n",
       "\n",
       "    .dataframe tbody tr th {\n",
       "        vertical-align: top;\n",
       "    }\n",
       "\n",
       "    .dataframe thead th {\n",
       "        text-align: right;\n",
       "    }\n",
       "</style>\n",
       "<table border=\"1\" class=\"dataframe\">\n",
       "  <thead>\n",
       "    <tr style=\"text-align: right;\">\n",
       "      <th></th>\n",
       "      <th>invoice_num</th>\n",
       "      <th>invoice_date</th>\n",
       "      <th>year_month</th>\n",
       "      <th>month</th>\n",
       "      <th>day</th>\n",
       "      <th>hour</th>\n",
       "      <th>stock_code</th>\n",
       "      <th>description</th>\n",
       "      <th>quantity</th>\n",
       "      <th>unit_price</th>\n",
       "      <th>amount_spent</th>\n",
       "      <th>cust_id</th>\n",
       "      <th>country</th>\n",
       "    </tr>\n",
       "  </thead>\n",
       "  <tbody>\n",
       "    <tr>\n",
       "      <th>0</th>\n",
       "      <td>536365</td>\n",
       "      <td>2010-12-01 08:26:00</td>\n",
       "      <td>201012</td>\n",
       "      <td>12</td>\n",
       "      <td>3</td>\n",
       "      <td>8</td>\n",
       "      <td>85123A</td>\n",
       "      <td>white hanging heart t-light holder</td>\n",
       "      <td>6</td>\n",
       "      <td>2.55</td>\n",
       "      <td>15.30</td>\n",
       "      <td>17850</td>\n",
       "      <td>United Kingdom</td>\n",
       "    </tr>\n",
       "    <tr>\n",
       "      <th>1</th>\n",
       "      <td>536365</td>\n",
       "      <td>2010-12-01 08:26:00</td>\n",
       "      <td>201012</td>\n",
       "      <td>12</td>\n",
       "      <td>3</td>\n",
       "      <td>8</td>\n",
       "      <td>71053</td>\n",
       "      <td>white metal lantern</td>\n",
       "      <td>6</td>\n",
       "      <td>3.39</td>\n",
       "      <td>20.34</td>\n",
       "      <td>17850</td>\n",
       "      <td>United Kingdom</td>\n",
       "    </tr>\n",
       "    <tr>\n",
       "      <th>2</th>\n",
       "      <td>536365</td>\n",
       "      <td>2010-12-01 08:26:00</td>\n",
       "      <td>201012</td>\n",
       "      <td>12</td>\n",
       "      <td>3</td>\n",
       "      <td>8</td>\n",
       "      <td>84406B</td>\n",
       "      <td>cream cupid hearts coat hanger</td>\n",
       "      <td>8</td>\n",
       "      <td>2.75</td>\n",
       "      <td>22.00</td>\n",
       "      <td>17850</td>\n",
       "      <td>United Kingdom</td>\n",
       "    </tr>\n",
       "    <tr>\n",
       "      <th>3</th>\n",
       "      <td>536365</td>\n",
       "      <td>2010-12-01 08:26:00</td>\n",
       "      <td>201012</td>\n",
       "      <td>12</td>\n",
       "      <td>3</td>\n",
       "      <td>8</td>\n",
       "      <td>84029G</td>\n",
       "      <td>knitted union flag hot water bottle</td>\n",
       "      <td>6</td>\n",
       "      <td>3.39</td>\n",
       "      <td>20.34</td>\n",
       "      <td>17850</td>\n",
       "      <td>United Kingdom</td>\n",
       "    </tr>\n",
       "    <tr>\n",
       "      <th>4</th>\n",
       "      <td>536365</td>\n",
       "      <td>2010-12-01 08:26:00</td>\n",
       "      <td>201012</td>\n",
       "      <td>12</td>\n",
       "      <td>3</td>\n",
       "      <td>8</td>\n",
       "      <td>84029E</td>\n",
       "      <td>red woolly hottie white heart.</td>\n",
       "      <td>6</td>\n",
       "      <td>3.39</td>\n",
       "      <td>20.34</td>\n",
       "      <td>17850</td>\n",
       "      <td>United Kingdom</td>\n",
       "    </tr>\n",
       "  </tbody>\n",
       "</table>\n",
       "</div>"
      ],
      "text/plain": [
       "  invoice_num        invoice_date  year_month  month  day  hour stock_code  \\\n",
       "0      536365 2010-12-01 08:26:00      201012     12    3     8     85123A   \n",
       "1      536365 2010-12-01 08:26:00      201012     12    3     8      71053   \n",
       "2      536365 2010-12-01 08:26:00      201012     12    3     8     84406B   \n",
       "3      536365 2010-12-01 08:26:00      201012     12    3     8     84029G   \n",
       "4      536365 2010-12-01 08:26:00      201012     12    3     8     84029E   \n",
       "\n",
       "                           description  quantity  unit_price  amount_spent  \\\n",
       "0   white hanging heart t-light holder         6        2.55         15.30   \n",
       "1                  white metal lantern         6        3.39         20.34   \n",
       "2       cream cupid hearts coat hanger         8        2.75         22.00   \n",
       "3  knitted union flag hot water bottle         6        3.39         20.34   \n",
       "4       red woolly hottie white heart.         6        3.39         20.34   \n",
       "\n",
       "   cust_id         country  \n",
       "0    17850  United Kingdom  \n",
       "1    17850  United Kingdom  \n",
       "2    17850  United Kingdom  \n",
       "3    17850  United Kingdom  \n",
       "4    17850  United Kingdom  "
      ]
     },
     "execution_count": 28,
     "metadata": {},
     "output_type": "execute_result"
    }
   ],
   "source": [
    "df_new.head()"
   ]
  },
  {
   "cell_type": "code",
   "execution_count": 29,
   "metadata": {},
   "outputs": [
    {
     "data": {
      "text/plain": [
       "(392732, 13)"
      ]
     },
     "execution_count": 29,
     "metadata": {},
     "output_type": "execute_result"
    }
   ],
   "source": [
    "df_new.shape"
   ]
  },
  {
   "cell_type": "markdown",
   "metadata": {},
   "source": [
    "## 6. How many orders made by the customers?"
   ]
  },
  {
   "cell_type": "code",
   "execution_count": 30,
   "metadata": {
    "ExecuteTime": {
     "end_time": "2018-09-22T04:18:01.224774Z",
     "start_time": "2018-09-22T04:18:00.928915Z"
    }
   },
   "outputs": [
    {
     "data": {
      "text/html": [
       "<div>\n",
       "<style scoped>\n",
       "    .dataframe tbody tr th:only-of-type {\n",
       "        vertical-align: middle;\n",
       "    }\n",
       "\n",
       "    .dataframe tbody tr th {\n",
       "        vertical-align: top;\n",
       "    }\n",
       "\n",
       "    .dataframe thead th {\n",
       "        text-align: right;\n",
       "    }\n",
       "</style>\n",
       "<table border=\"1\" class=\"dataframe\">\n",
       "  <thead>\n",
       "    <tr style=\"text-align: right;\">\n",
       "      <th></th>\n",
       "      <th>cust_id</th>\n",
       "      <th>country</th>\n",
       "      <th>invoice_num</th>\n",
       "    </tr>\n",
       "  </thead>\n",
       "  <tbody>\n",
       "    <tr>\n",
       "      <th>0</th>\n",
       "      <td>12346</td>\n",
       "      <td>United Kingdom</td>\n",
       "      <td>1</td>\n",
       "    </tr>\n",
       "    <tr>\n",
       "      <th>1</th>\n",
       "      <td>12347</td>\n",
       "      <td>Iceland</td>\n",
       "      <td>182</td>\n",
       "    </tr>\n",
       "    <tr>\n",
       "      <th>2</th>\n",
       "      <td>12348</td>\n",
       "      <td>Finland</td>\n",
       "      <td>31</td>\n",
       "    </tr>\n",
       "    <tr>\n",
       "      <th>3</th>\n",
       "      <td>12349</td>\n",
       "      <td>Italy</td>\n",
       "      <td>73</td>\n",
       "    </tr>\n",
       "    <tr>\n",
       "      <th>4</th>\n",
       "      <td>12350</td>\n",
       "      <td>Norway</td>\n",
       "      <td>17</td>\n",
       "    </tr>\n",
       "  </tbody>\n",
       "</table>\n",
       "</div>"
      ],
      "text/plain": [
       "   cust_id         country  invoice_num\n",
       "0    12346  United Kingdom            1\n",
       "1    12347         Iceland          182\n",
       "2    12348         Finland           31\n",
       "3    12349           Italy           73\n",
       "4    12350          Norway           17"
      ]
     },
     "execution_count": 30,
     "metadata": {},
     "output_type": "execute_result"
    }
   ],
   "source": [
    "df_new.groupby(by=['cust_id','country'], as_index=False)['invoice_num'].count().head()"
   ]
  },
  {
   "cell_type": "code",
   "execution_count": 31,
   "metadata": {
    "ExecuteTime": {
     "end_time": "2018-09-21T06:23:19.963728Z",
     "start_time": "2018-09-21T06:23:19.530697Z"
    }
   },
   "outputs": [
    {
     "data": {
      "image/png": "[encoded data removed]",
      "text/plain": [
       "<Figure size 1440x720 with 1 Axes>"
      ]
     },
     "metadata": {
      "needs_background": "light"
     },
     "output_type": "display_data"
    }
   ],
   "source": [
    "orders = df_new.groupby(by=['cust_id','country'], as_index=False)['invoice_num'].count()\n",
    "\n",
    "plt.subplots(figsize=(20,10))\n",
    "plt.plot(orders.cust_id, orders.invoice_num)\n",
    "plt.xlabel('Customers ID')\n",
    "plt.ylabel('Number of Orders')\n",
    "plt.title('Number of Orders for different Customers')\n",
    "plt.show()"
   ]
  },
  {
   "cell_type": "markdown",
   "metadata": {},
   "source": [
    "## 7. Top 5 customers with higher number of orders"
   ]
  },
  {
   "cell_type": "code",
   "execution_count": 120,
   "metadata": {
    "ExecuteTime": {
     "end_time": "2018-09-21T06:23:21.745797Z",
     "start_time": "2018-09-21T06:23:21.724282Z"
    }
   },
   "outputs": [
    {
     "name": "stdout",
     "output_type": "stream",
     "text": [
      "The Top 5 customers with most number of orders\n"
     ]
    },
    {
     "data": {
      "text/html": [
       "<div>\n",
       "<style scoped>\n",
       "    .dataframe tbody tr th:only-of-type {\n",
       "        vertical-align: middle;\n",
       "    }\n",
       "\n",
       "    .dataframe tbody tr th {\n",
       "        vertical-align: top;\n",
       "    }\n",
       "\n",
       "    .dataframe thead th {\n",
       "        text-align: right;\n",
       "    }\n",
       "</style>\n",
       "<table border=\"1\" class=\"dataframe\">\n",
       "  <thead>\n",
       "    <tr style=\"text-align: right;\">\n",
       "      <th></th>\n",
       "      <th>cust_id</th>\n",
       "      <th>country</th>\n",
       "      <th>invoice_num</th>\n",
       "    </tr>\n",
       "  </thead>\n",
       "  <tbody>\n",
       "    <tr>\n",
       "      <th>4019</th>\n",
       "      <td>17841</td>\n",
       "      <td>United Kingdom</td>\n",
       "      <td>7676</td>\n",
       "    </tr>\n",
       "    <tr>\n",
       "      <th>1888</th>\n",
       "      <td>14911</td>\n",
       "      <td>EIRE</td>\n",
       "      <td>5672</td>\n",
       "    </tr>\n",
       "    <tr>\n",
       "      <th>1298</th>\n",
       "      <td>14096</td>\n",
       "      <td>United Kingdom</td>\n",
       "      <td>5111</td>\n",
       "    </tr>\n",
       "    <tr>\n",
       "      <th>334</th>\n",
       "      <td>12748</td>\n",
       "      <td>United Kingdom</td>\n",
       "      <td>4413</td>\n",
       "    </tr>\n",
       "    <tr>\n",
       "      <th>1670</th>\n",
       "      <td>14606</td>\n",
       "      <td>United Kingdom</td>\n",
       "      <td>2677</td>\n",
       "    </tr>\n",
       "  </tbody>\n",
       "</table>\n",
       "</div>"
      ],
      "text/plain": [
       "      cust_id         country  invoice_num\n",
       "4019    17841  United Kingdom         7676\n",
       "1888    14911            EIRE         5672\n",
       "1298    14096  United Kingdom         5111\n",
       "334     12748  United Kingdom         4413\n",
       "1670    14606  United Kingdom         2677"
      ]
     },
     "execution_count": 120,
     "metadata": {},
     "output_type": "execute_result"
    }
   ],
   "source": [
    "print('The Top 5 customers with most number of orders')\n",
    "orders.sort_values(by='invoice_num', ascending=False).head()"
   ]
  },
  {
   "cell_type": "code",
   "execution_count": null,
   "metadata": {},
   "outputs": [],
   "source": []
  },
  {
   "cell_type": "markdown",
   "metadata": {},
   "source": [
    "## 8. How much money spent by the customers? "
   ]
  },
  {
   "cell_type": "code",
   "execution_count": 33,
   "metadata": {
    "ExecuteTime": {
     "end_time": "2018-09-21T13:42:12.566849Z",
     "start_time": "2018-09-21T13:42:12.206082Z"
    }
   },
   "outputs": [
    {
     "data": {
      "image/png": "[encoded data removed]",
      "text/plain": [
       "<Figure size 1440x720 with 1 Axes>"
      ]
     },
     "metadata": {
      "needs_background": "light"
     },
     "output_type": "display_data"
    }
   ],
   "source": [
    "money_spent = df_new.groupby(by=['cust_id','country'], as_index=False)['amount_spent'].sum()\n",
    "\n",
    "plt.subplots(figsize=(20,10))\n",
    "plt.plot(money_spent.cust_id, money_spent.amount_spent)\n",
    "plt.xlabel('Customers ID')\n",
    "plt.ylabel('Money spent (Dollar)')\n",
    "plt.title('Money Spent for different Customers')\n",
    "plt.show()"
   ]
  },
  {
   "cell_type": "markdown",
   "metadata": {},
   "source": [
    "## 9. Top 5 customers with highest money spent "
   ]
  },
  {
   "cell_type": "code",
   "execution_count": 119,
   "metadata": {
    "ExecuteTime": {
     "end_time": "2018-09-21T06:23:59.259439Z",
     "start_time": "2018-09-21T06:23:59.233423Z"
    }
   },
   "outputs": [
    {
     "name": "stdout",
     "output_type": "stream",
     "text": [
      "The Top 5 customers with highest money spent\n"
     ]
    },
    {
     "data": {
      "text/html": [
       "<div>\n",
       "<style scoped>\n",
       "    .dataframe tbody tr th:only-of-type {\n",
       "        vertical-align: middle;\n",
       "    }\n",
       "\n",
       "    .dataframe tbody tr th {\n",
       "        vertical-align: top;\n",
       "    }\n",
       "\n",
       "    .dataframe thead th {\n",
       "        text-align: right;\n",
       "    }\n",
       "</style>\n",
       "<table border=\"1\" class=\"dataframe\">\n",
       "  <thead>\n",
       "    <tr style=\"text-align: right;\">\n",
       "      <th></th>\n",
       "      <th>cust_id</th>\n",
       "      <th>country</th>\n",
       "      <th>amount_spent</th>\n",
       "    </tr>\n",
       "  </thead>\n",
       "  <tbody>\n",
       "    <tr>\n",
       "      <th>1698</th>\n",
       "      <td>14646</td>\n",
       "      <td>Netherlands</td>\n",
       "      <td>280206.02</td>\n",
       "    </tr>\n",
       "    <tr>\n",
       "      <th>4210</th>\n",
       "      <td>18102</td>\n",
       "      <td>United Kingdom</td>\n",
       "      <td>259657.30</td>\n",
       "    </tr>\n",
       "    <tr>\n",
       "      <th>3737</th>\n",
       "      <td>17450</td>\n",
       "      <td>United Kingdom</td>\n",
       "      <td>194390.79</td>\n",
       "    </tr>\n",
       "    <tr>\n",
       "      <th>3017</th>\n",
       "      <td>16446</td>\n",
       "      <td>United Kingdom</td>\n",
       "      <td>168472.50</td>\n",
       "    </tr>\n",
       "    <tr>\n",
       "      <th>1888</th>\n",
       "      <td>14911</td>\n",
       "      <td>EIRE</td>\n",
       "      <td>143711.17</td>\n",
       "    </tr>\n",
       "  </tbody>\n",
       "</table>\n",
       "</div>"
      ],
      "text/plain": [
       "      cust_id         country  amount_spent\n",
       "1698    14646     Netherlands     280206.02\n",
       "4210    18102  United Kingdom     259657.30\n",
       "3737    17450  United Kingdom     194390.79\n",
       "3017    16446  United Kingdom     168472.50\n",
       "1888    14911            EIRE     143711.17"
      ]
     },
     "execution_count": 119,
     "metadata": {},
     "output_type": "execute_result"
    }
   ],
   "source": [
    "print('The Top 5 customers with highest money spent')\n",
    "money_spent.sort_values(by='amount_spent', ascending=False).head()"
   ]
  },
  {
   "cell_type": "markdown",
   "metadata": {
    "ExecuteTime": {
     "end_time": "2018-09-21T06:25:51.324149Z",
     "start_time": "2018-09-21T06:25:51.289278Z"
    }
   },
   "source": [
    "## 10. How many orders per month?"
   ]
  },
  {
   "cell_type": "code",
   "execution_count": 118,
   "metadata": {
    "ExecuteTime": {
     "end_time": "2018-09-21T07:14:55.128552Z",
     "start_time": "2018-09-21T07:14:54.912385Z"
    }
   },
   "outputs": [],
   "source": [
    "# color available\n",
    "#sns.palplot(color)"
   ]
  },
  {
   "cell_type": "code",
   "execution_count": 36,
   "metadata": {
    "ExecuteTime": {
     "end_time": "2018-09-21T07:28:42.439805Z",
     "start_time": "2018-09-21T07:28:42.394272Z"
    }
   },
   "outputs": [
    {
     "data": {
      "text/html": [
       "<div>\n",
       "<style scoped>\n",
       "    .dataframe tbody tr th:only-of-type {\n",
       "        vertical-align: middle;\n",
       "    }\n",
       "\n",
       "    .dataframe tbody tr th {\n",
       "        vertical-align: top;\n",
       "    }\n",
       "\n",
       "    .dataframe thead th {\n",
       "        text-align: right;\n",
       "    }\n",
       "</style>\n",
       "<table border=\"1\" class=\"dataframe\">\n",
       "  <thead>\n",
       "    <tr style=\"text-align: right;\">\n",
       "      <th></th>\n",
       "      <th>invoice_num</th>\n",
       "      <th>invoice_date</th>\n",
       "      <th>year_month</th>\n",
       "      <th>month</th>\n",
       "      <th>day</th>\n",
       "      <th>hour</th>\n",
       "      <th>stock_code</th>\n",
       "      <th>description</th>\n",
       "      <th>quantity</th>\n",
       "      <th>unit_price</th>\n",
       "      <th>amount_spent</th>\n",
       "      <th>cust_id</th>\n",
       "      <th>country</th>\n",
       "    </tr>\n",
       "  </thead>\n",
       "  <tbody>\n",
       "    <tr>\n",
       "      <th>0</th>\n",
       "      <td>536365</td>\n",
       "      <td>2010-12-01 08:26:00</td>\n",
       "      <td>201012</td>\n",
       "      <td>12</td>\n",
       "      <td>3</td>\n",
       "      <td>8</td>\n",
       "      <td>85123A</td>\n",
       "      <td>white hanging heart t-light holder</td>\n",
       "      <td>6</td>\n",
       "      <td>2.55</td>\n",
       "      <td>15.30</td>\n",
       "      <td>17850</td>\n",
       "      <td>United Kingdom</td>\n",
       "    </tr>\n",
       "    <tr>\n",
       "      <th>1</th>\n",
       "      <td>536365</td>\n",
       "      <td>2010-12-01 08:26:00</td>\n",
       "      <td>201012</td>\n",
       "      <td>12</td>\n",
       "      <td>3</td>\n",
       "      <td>8</td>\n",
       "      <td>71053</td>\n",
       "      <td>white metal lantern</td>\n",
       "      <td>6</td>\n",
       "      <td>3.39</td>\n",
       "      <td>20.34</td>\n",
       "      <td>17850</td>\n",
       "      <td>United Kingdom</td>\n",
       "    </tr>\n",
       "    <tr>\n",
       "      <th>2</th>\n",
       "      <td>536365</td>\n",
       "      <td>2010-12-01 08:26:00</td>\n",
       "      <td>201012</td>\n",
       "      <td>12</td>\n",
       "      <td>3</td>\n",
       "      <td>8</td>\n",
       "      <td>84406B</td>\n",
       "      <td>cream cupid hearts coat hanger</td>\n",
       "      <td>8</td>\n",
       "      <td>2.75</td>\n",
       "      <td>22.00</td>\n",
       "      <td>17850</td>\n",
       "      <td>United Kingdom</td>\n",
       "    </tr>\n",
       "    <tr>\n",
       "      <th>3</th>\n",
       "      <td>536365</td>\n",
       "      <td>2010-12-01 08:26:00</td>\n",
       "      <td>201012</td>\n",
       "      <td>12</td>\n",
       "      <td>3</td>\n",
       "      <td>8</td>\n",
       "      <td>84029G</td>\n",
       "      <td>knitted union flag hot water bottle</td>\n",
       "      <td>6</td>\n",
       "      <td>3.39</td>\n",
       "      <td>20.34</td>\n",
       "      <td>17850</td>\n",
       "      <td>United Kingdom</td>\n",
       "    </tr>\n",
       "    <tr>\n",
       "      <th>4</th>\n",
       "      <td>536365</td>\n",
       "      <td>2010-12-01 08:26:00</td>\n",
       "      <td>201012</td>\n",
       "      <td>12</td>\n",
       "      <td>3</td>\n",
       "      <td>8</td>\n",
       "      <td>84029E</td>\n",
       "      <td>red woolly hottie white heart.</td>\n",
       "      <td>6</td>\n",
       "      <td>3.39</td>\n",
       "      <td>20.34</td>\n",
       "      <td>17850</td>\n",
       "      <td>United Kingdom</td>\n",
       "    </tr>\n",
       "  </tbody>\n",
       "</table>\n",
       "</div>"
      ],
      "text/plain": [
       "  invoice_num        invoice_date  year_month  month  day  hour stock_code  \\\n",
       "0      536365 2010-12-01 08:26:00      201012     12    3     8     85123A   \n",
       "1      536365 2010-12-01 08:26:00      201012     12    3     8      71053   \n",
       "2      536365 2010-12-01 08:26:00      201012     12    3     8     84406B   \n",
       "3      536365 2010-12-01 08:26:00      201012     12    3     8     84029G   \n",
       "4      536365 2010-12-01 08:26:00      201012     12    3     8     84029E   \n",
       "\n",
       "                           description  quantity  unit_price  amount_spent  \\\n",
       "0   white hanging heart t-light holder         6        2.55         15.30   \n",
       "1                  white metal lantern         6        3.39         20.34   \n",
       "2       cream cupid hearts coat hanger         8        2.75         22.00   \n",
       "3  knitted union flag hot water bottle         6        3.39         20.34   \n",
       "4       red woolly hottie white heart.         6        3.39         20.34   \n",
       "\n",
       "   cust_id         country  \n",
       "0    17850  United Kingdom  \n",
       "1    17850  United Kingdom  \n",
       "2    17850  United Kingdom  \n",
       "3    17850  United Kingdom  \n",
       "4    17850  United Kingdom  "
      ]
     },
     "execution_count": 36,
     "metadata": {},
     "output_type": "execute_result"
    }
   ],
   "source": [
    "df_new.head()"
   ]
  },
  {
   "cell_type": "code",
   "execution_count": 117,
   "metadata": {},
   "outputs": [
    {
     "ename": "TypeError",
     "evalue": "unhashable type: 'numpy.ndarray'",
     "output_type": "error",
     "traceback": [
      "\u001b[1;31m---------------------------------------------------------------------------\u001b[0m",
      "\u001b[1;31mTypeError\u001b[0m                                 Traceback (most recent call last)",
      "\u001b[1;32mpandas\\_libs\\hashtable_class_helper.pxi\u001b[0m in \u001b[0;36mpandas._libs.hashtable.PyObjectHashTable.map_locations\u001b[1;34m()\u001b[0m\n",
      "\u001b[1;31mTypeError\u001b[0m: unhashable type: 'numpy.ndarray'"
     ]
    },
    {
     "name": "stderr",
     "output_type": "stream",
     "text": [
      "Exception ignored in: 'pandas._libs.index.IndexEngine._call_map_locations'\n",
      "Traceback (most recent call last):\n",
      "  File \"pandas\\_libs\\hashtable_class_helper.pxi\", line 4588, in pandas._libs.hashtable.PyObjectHashTable.map_locations\n",
      "TypeError: unhashable type: 'numpy.ndarray'\n"
     ]
    },
    {
     "data": {
      "text/plain": [
       "[201012]    1400\n",
       "[201101]     987\n",
       "[201102]     998\n",
       "[201103]    1321\n",
       "[201104]    1149\n",
       "[201105]    1555\n",
       "[201106]    1393\n",
       "[201107]    1331\n",
       "[201108]    1281\n",
       "[201109]    1756\n",
       "[201110]    1929\n",
       "[201111]    2658\n",
       "[201112]     778\n",
       "Name: year_month, dtype: int64"
      ]
     },
     "execution_count": 117,
     "metadata": {},
     "output_type": "execute_result"
    }
   ],
   "source": [
    "df_new.groupby('invoice_num')['year_month'].unique().value_counts().sort_index()\n"
   ]
  },
  {
   "cell_type": "code",
   "execution_count": 37,
   "metadata": {
    "ExecuteTime": {
     "end_time": "2018-09-22T01:41:29.309911Z",
     "start_time": "2018-09-22T01:41:26.299115Z"
    }
   },
   "outputs": [
    {
     "data": {
      "image/png": "[encoded data removed]",
      "text/plain": [
       "<Figure size 1080x432 with 1 Axes>"
      ]
     },
     "metadata": {
      "needs_background": "light"
     },
     "output_type": "display_data"
    }
   ],
   "source": [
    "ax = df_new.groupby('invoice_num')['year_month'].unique().value_counts().sort_index().plot(kind='bar',color=color[9],figsize=(15,6))\n",
    "ax.set_xlabel('Month',fontsize=15)\n",
    "ax.set_ylabel('Number of Orders',fontsize=15)\n",
    "ax.set_title('Number of orders for different Months (1st Dec 2010 - 9th Dec 2011)',fontsize=15)\n",
    "ax.set_xticklabels(('Dec_10','Jan_11','Feb_11','Mar_11','Apr_11','May_11','Jun_11','July_11','Aug_11','Sep_11','Oct_11','Nov_11','Dec_11'), rotation='horizontal', fontsize=13)\n",
    "plt.show()"
   ]
  },
  {
   "cell_type": "code",
   "execution_count": 114,
   "metadata": {},
   "outputs": [],
   "source": [
    "#November 2011 has the highest order of the month(1st Dec 2010 - 9th Dec 2011 )"
   ]
  },
  {
   "cell_type": "markdown",
   "metadata": {},
   "source": [
    "## 11. How many orders per day? "
   ]
  },
  {
   "cell_type": "code",
   "execution_count": 38,
   "metadata": {},
   "outputs": [
    {
     "name": "stdout",
     "output_type": "stream",
     "text": [
      "<class 'pandas.core.groupby.generic.SeriesGroupBy'>\n"
     ]
    }
   ],
   "source": [
    "print(type(df_new.groupby('invoice_num')['day']))"
   ]
  },
  {
   "cell_type": "code",
   "execution_count": 39,
   "metadata": {
    "ExecuteTime": {
     "end_time": "2018-09-22T00:15:05.748401Z",
     "start_time": "2018-09-22T00:15:01.500364Z"
    }
   },
   "outputs": [
    {
     "ename": "TypeError",
     "evalue": "unhashable type: 'numpy.ndarray'",
     "output_type": "error",
     "traceback": [
      "\u001b[1;31m---------------------------------------------------------------------------\u001b[0m",
      "\u001b[1;31mTypeError\u001b[0m                                 Traceback (most recent call last)",
      "\u001b[1;32mpandas\\_libs\\hashtable_class_helper.pxi\u001b[0m in \u001b[0;36mpandas._libs.hashtable.PyObjectHashTable.map_locations\u001b[1;34m()\u001b[0m\n",
      "\u001b[1;31mTypeError\u001b[0m: unhashable type: 'numpy.ndarray'"
     ]
    },
    {
     "name": "stderr",
     "output_type": "stream",
     "text": [
      "Exception ignored in: 'pandas._libs.index.IndexEngine._call_map_locations'\n",
      "Traceback (most recent call last):\n",
      "  File \"pandas\\_libs\\hashtable_class_helper.pxi\", line 4588, in pandas._libs.hashtable.PyObjectHashTable.map_locations\n",
      "TypeError: unhashable type: 'numpy.ndarray'\n"
     ]
    },
    {
     "data": {
      "text/plain": [
       "[1]    2863\n",
       "[2]    3185\n",
       "[3]    3455\n",
       "[4]    4033\n",
       "[5]    2831\n",
       "[7]    2169\n",
       "Name: day, dtype: int64"
      ]
     },
     "execution_count": 39,
     "metadata": {},
     "output_type": "execute_result"
    }
   ],
   "source": [
    "df_new.groupby('invoice_num')['day'].unique().value_counts().sort_index()"
   ]
  },
  {
   "cell_type": "code",
   "execution_count": 40,
   "metadata": {
    "ExecuteTime": {
     "end_time": "2018-09-21T07:48:00.345911Z",
     "start_time": "2018-09-21T07:47:57.214317Z"
    }
   },
   "outputs": [
    {
     "data": {
      "image/png": "[encoded data removed]",
      "text/plain": [
       "<Figure size 1080x432 with 1 Axes>"
      ]
     },
     "metadata": {
      "needs_background": "light"
     },
     "output_type": "display_data"
    }
   ],
   "source": [
    "ax = df_new.groupby('invoice_num')['day'].unique().value_counts().sort_index().plot(kind='bar',color=color[9],figsize=(15,6))\n",
    "ax.set_xlabel('Day',fontsize=15)\n",
    "ax.set_ylabel('Number of Orders',fontsize=15)\n",
    "ax.set_title('Number of orders for different Days',fontsize=15)\n",
    "ax.set_xticklabels(('Mon','Tue','Wed','Thur','Fri','Sun'), rotation='horizontal', fontsize=15)\n",
    "plt.show()"
   ]
  },
  {
   "cell_type": "code",
   "execution_count": 112,
   "metadata": {},
   "outputs": [],
   "source": [
    "#Thursday has the highest order"
   ]
  },
  {
   "cell_type": "markdown",
   "metadata": {
    "ExecuteTime": {
     "end_time": "2018-09-21T07:02:27.499255Z",
     "start_time": "2018-09-21T07:02:27.495254Z"
    }
   },
   "source": [
    "## 12. How many orders per hour? "
   ]
  },
  {
   "cell_type": "code",
   "execution_count": 41,
   "metadata": {
    "ExecuteTime": {
     "end_time": "2018-09-22T00:15:27.868781Z",
     "start_time": "2018-09-22T00:15:25.410107Z"
    },
    "scrolled": true
   },
   "outputs": [
    {
     "data": {
      "text/plain": [
       "invoice_num  hour\n",
       "536365       8        7\n",
       "536366       8        2\n",
       "536367       8       12\n",
       "536368       8        4\n",
       "536369       8        1\n",
       "                     ..\n",
       "581583       12       2\n",
       "581584       12       2\n",
       "581585       12      21\n",
       "581586       12       4\n",
       "581587       12      15\n",
       "Name: hour, Length: 18537, dtype: int64"
      ]
     },
     "execution_count": 41,
     "metadata": {},
     "output_type": "execute_result"
    }
   ],
   "source": [
    "df_new.groupby('invoice_num')['hour'].value_counts().iloc[::-1].sort_index()"
   ]
  },
  {
   "cell_type": "code",
   "execution_count": 99,
   "metadata": {
    "scrolled": true
   },
   "outputs": [
    {
     "ename": "TypeError",
     "evalue": "unhashable type: 'numpy.ndarray'",
     "output_type": "error",
     "traceback": [
      "\u001b[1;31m---------------------------------------------------------------------------\u001b[0m",
      "\u001b[1;31mTypeError\u001b[0m                                 Traceback (most recent call last)",
      "\u001b[1;32mpandas\\_libs\\hashtable_class_helper.pxi\u001b[0m in \u001b[0;36mpandas._libs.hashtable.PyObjectHashTable.map_locations\u001b[1;34m()\u001b[0m\n",
      "\u001b[1;31mTypeError\u001b[0m: unhashable type: 'numpy.ndarray'"
     ]
    },
    {
     "name": "stderr",
     "output_type": "stream",
     "text": [
      "Exception ignored in: 'pandas._libs.index.IndexEngine._call_map_locations'\n",
      "Traceback (most recent call last):\n",
      "  File \"pandas\\_libs\\hashtable_class_helper.pxi\", line 4588, in pandas._libs.hashtable.PyObjectHashTable.map_locations\n",
      "TypeError: unhashable type: 'numpy.ndarray'\n"
     ]
    },
    {
     "data": {
      "text/plain": [
       "[12]        3129\n",
       "[13]        2637\n",
       "[11]        2276\n",
       "[14]        2275\n",
       "[10]        2226\n",
       "[15]        2038\n",
       "[9]         1394\n",
       "[16]        1100\n",
       "[8]          555\n",
       "[17]         544\n",
       "[18]         169\n",
       "[19]         144\n",
       "[7]           29\n",
       "[20]          18\n",
       "[11, 12]       1\n",
       "Name: hour, dtype: int64"
      ]
     },
     "execution_count": 99,
     "metadata": {},
     "output_type": "execute_result"
    }
   ],
   "source": [
    "ax=df_new.groupby('invoice_num')['hour'].unique().value_counts().iloc[:-1]\n",
    "ax"
   ]
  },
  {
   "cell_type": "code",
   "execution_count": 101,
   "metadata": {
    "scrolled": false
   },
   "outputs": [],
   "source": [
    "ax=ax.sort_values(axis=0, ascending=True, inplace=False, kind='quicksort', na_position='last', ignore_index=False, key=None)"
   ]
  },
  {
   "cell_type": "code",
   "execution_count": 102,
   "metadata": {},
   "outputs": [
    {
     "data": {
      "image/png": "[encoded data removed]",
      "text/plain": [
       "<Figure size 1296x576 with 1 Axes>"
      ]
     },
     "metadata": {
      "needs_background": "light"
     },
     "output_type": "display_data"
    }
   ],
   "source": [
    "ax=ax.plot(kind='bar',color=color[9],figsize=(18,8))\n",
    "ax.set_xlabel('Hour',fontsize=15)\n",
    "ax.set_ylabel('Number of Orders',fontsize=15)\n",
    "ax.set_title('Number of orders for different Hours',fontsize=15)\n",
    "ax.set_xticklabels(range(6,21), rotation='horizontal', fontsize=15)\n",
    "plt.show()"
   ]
  },
  {
   "cell_type": "code",
   "execution_count": null,
   "metadata": {},
   "outputs": [],
   "source": [
    "# orders are from 6 to 20 hour duration"
   ]
  },
  {
   "cell_type": "code",
   "execution_count": 93,
   "metadata": {
    "ExecuteTime": {
     "end_time": "2018-09-21T07:47:44.201661Z",
     "start_time": "2018-09-21T07:47:41.310487Z"
    }
   },
   "outputs": [
    {
     "data": {
      "text/plain": [
       "\"ax = df_new.groupby('invoice_num')['hour'].unique().value_counts().iloc[:-1].plot(kind='bar',color=color[9],figsize=(15,6))\\nax.set_xlabel('Hour',fontsize=15)\\nax.set_ylabel('Number of Orders',fontsize=15)\\nax.set_title('Number of orders for different Hours',fontsize=15)\\nax.set_xticklabels(range(6,21), rotation='horizontal', fontsize=15)\\nplt.show()\""
      ]
     },
     "execution_count": 93,
     "metadata": {},
     "output_type": "execute_result"
    }
   ],
   "source": [
    "'''ax = df_new.groupby('invoice_num')['hour'].unique().value_counts().iloc[:-1].plot(kind='bar',color=color[9],figsize=(15,6))\n",
    "ax.set_xlabel('Hour',fontsize=15)\n",
    "ax.set_ylabel('Number of Orders',fontsize=15)\n",
    "ax.set_title('Number of orders for different Hours',fontsize=15)\n",
    "ax.set_xticklabels(range(6,21), rotation='horizontal', fontsize=15)\n",
    "plt.show()'''"
   ]
  },
  {
   "cell_type": "markdown",
   "metadata": {},
   "source": [
    "# Discover patterns for **<span class=\"girk\">Unit Price</span>**"
   ]
  },
  {
   "cell_type": "code",
   "execution_count": 160,
   "metadata": {
    "ExecuteTime": {
     "end_time": "2018-09-21T08:27:11.440154Z",
     "start_time": "2018-09-21T08:27:11.287652Z"
    }
   },
   "outputs": [
    {
     "data": {
      "text/plain": [
       "count    392732.000000\n",
       "mean          3.125596\n",
       "std          22.240725\n",
       "min           0.000000\n",
       "25%           1.250000\n",
       "50%           1.950000\n",
       "75%           3.750000\n",
       "max        8142.750000\n",
       "Name: unit_price, dtype: float64"
      ]
     },
     "execution_count": 160,
     "metadata": {},
     "output_type": "execute_result"
    }
   ],
   "source": [
    "df_new.unit_price.describe()"
   ]
  },
  {
   "cell_type": "markdown",
   "metadata": {
    "ExecuteTime": {
     "end_time": "2018-09-21T08:31:06.887827Z",
     "start_time": "2018-09-21T08:31:05.703602Z"
    }
   },
   "source": [
    "We see that there are unit price = 0 (FREE items)\n",
    "\n",
    "There are some free items given to customers from time to time."
   ]
  },
  {
   "cell_type": "code",
   "execution_count": 122,
   "metadata": {
    "ExecuteTime": {
     "end_time": "2018-09-21T08:33:11.593214Z",
     "start_time": "2018-09-21T08:33:11.060503Z"
    }
   },
   "outputs": [
    {
     "data": {
      "image/png": "[encoded data removed]",
      "text/plain": [
       "<Figure size 864x432 with 1 Axes>"
      ]
     },
     "metadata": {
      "needs_background": "light"
     },
     "output_type": "display_data"
    }
   ],
   "source": [
    "# check the distribution of unit price\n",
    "plt.subplots(figsize=(12,6))\n",
    "sns.boxplot(df_new.unit_price,color=color[9])\n",
    "plt.title(\"Unit Price\")\n",
    "plt.show()"
   ]
  },
  {
   "cell_type": "code",
   "execution_count": 111,
   "metadata": {},
   "outputs": [],
   "source": [
    "#unit price between 0 and 5000, a few outliers are there at 8000"
   ]
  },
  {
   "cell_type": "code",
   "execution_count": 171,
   "metadata": {
    "ExecuteTime": {
     "end_time": "2018-09-21T09:48:59.667348Z",
     "start_time": "2018-09-21T09:48:59.617313Z"
    }
   },
   "outputs": [
    {
     "data": {
      "text/html": [
       "<div>\n",
       "<style scoped>\n",
       "    .dataframe tbody tr th:only-of-type {\n",
       "        vertical-align: middle;\n",
       "    }\n",
       "\n",
       "    .dataframe tbody tr th {\n",
       "        vertical-align: top;\n",
       "    }\n",
       "\n",
       "    .dataframe thead th {\n",
       "        text-align: right;\n",
       "    }\n",
       "</style>\n",
       "<table border=\"1\" class=\"dataframe\">\n",
       "  <thead>\n",
       "    <tr style=\"text-align: right;\">\n",
       "      <th></th>\n",
       "      <th>invoice_num</th>\n",
       "      <th>invoice_date</th>\n",
       "      <th>year_month</th>\n",
       "      <th>month</th>\n",
       "      <th>day</th>\n",
       "      <th>hour</th>\n",
       "      <th>stock_code</th>\n",
       "      <th>description</th>\n",
       "      <th>quantity</th>\n",
       "      <th>unit_price</th>\n",
       "      <th>amount_spent</th>\n",
       "      <th>cust_id</th>\n",
       "      <th>country</th>\n",
       "    </tr>\n",
       "  </thead>\n",
       "  <tbody>\n",
       "    <tr>\n",
       "      <th>0</th>\n",
       "      <td>536365</td>\n",
       "      <td>2010-12-01 08:26:00</td>\n",
       "      <td>201012</td>\n",
       "      <td>12</td>\n",
       "      <td>3</td>\n",
       "      <td>8</td>\n",
       "      <td>85123A</td>\n",
       "      <td>white hanging heart t-light holder</td>\n",
       "      <td>6</td>\n",
       "      <td>2.55</td>\n",
       "      <td>15.30</td>\n",
       "      <td>17850</td>\n",
       "      <td>United Kingdom</td>\n",
       "    </tr>\n",
       "    <tr>\n",
       "      <th>1</th>\n",
       "      <td>536365</td>\n",
       "      <td>2010-12-01 08:26:00</td>\n",
       "      <td>201012</td>\n",
       "      <td>12</td>\n",
       "      <td>3</td>\n",
       "      <td>8</td>\n",
       "      <td>71053</td>\n",
       "      <td>white metal lantern</td>\n",
       "      <td>6</td>\n",
       "      <td>3.39</td>\n",
       "      <td>20.34</td>\n",
       "      <td>17850</td>\n",
       "      <td>United Kingdom</td>\n",
       "    </tr>\n",
       "    <tr>\n",
       "      <th>2</th>\n",
       "      <td>536365</td>\n",
       "      <td>2010-12-01 08:26:00</td>\n",
       "      <td>201012</td>\n",
       "      <td>12</td>\n",
       "      <td>3</td>\n",
       "      <td>8</td>\n",
       "      <td>84406B</td>\n",
       "      <td>cream cupid hearts coat hanger</td>\n",
       "      <td>8</td>\n",
       "      <td>2.75</td>\n",
       "      <td>22.00</td>\n",
       "      <td>17850</td>\n",
       "      <td>United Kingdom</td>\n",
       "    </tr>\n",
       "    <tr>\n",
       "      <th>3</th>\n",
       "      <td>536365</td>\n",
       "      <td>2010-12-01 08:26:00</td>\n",
       "      <td>201012</td>\n",
       "      <td>12</td>\n",
       "      <td>3</td>\n",
       "      <td>8</td>\n",
       "      <td>84029G</td>\n",
       "      <td>knitted union flag hot water bottle</td>\n",
       "      <td>6</td>\n",
       "      <td>3.39</td>\n",
       "      <td>20.34</td>\n",
       "      <td>17850</td>\n",
       "      <td>United Kingdom</td>\n",
       "    </tr>\n",
       "    <tr>\n",
       "      <th>4</th>\n",
       "      <td>536365</td>\n",
       "      <td>2010-12-01 08:26:00</td>\n",
       "      <td>201012</td>\n",
       "      <td>12</td>\n",
       "      <td>3</td>\n",
       "      <td>8</td>\n",
       "      <td>84029E</td>\n",
       "      <td>red woolly hottie white heart.</td>\n",
       "      <td>6</td>\n",
       "      <td>3.39</td>\n",
       "      <td>20.34</td>\n",
       "      <td>17850</td>\n",
       "      <td>United Kingdom</td>\n",
       "    </tr>\n",
       "  </tbody>\n",
       "</table>\n",
       "</div>"
      ],
      "text/plain": [
       "  invoice_num        invoice_date  year_month  month  day  hour stock_code  \\\n",
       "0      536365 2010-12-01 08:26:00      201012     12    3     8     85123A   \n",
       "1      536365 2010-12-01 08:26:00      201012     12    3     8      71053   \n",
       "2      536365 2010-12-01 08:26:00      201012     12    3     8     84406B   \n",
       "3      536365 2010-12-01 08:26:00      201012     12    3     8     84029G   \n",
       "4      536365 2010-12-01 08:26:00      201012     12    3     8     84029E   \n",
       "\n",
       "                           description  quantity  unit_price  amount_spent  \\\n",
       "0   white hanging heart t-light holder         6        2.55         15.30   \n",
       "1                  white metal lantern         6        3.39         20.34   \n",
       "2       cream cupid hearts coat hanger         8        2.75         22.00   \n",
       "3  knitted union flag hot water bottle         6        3.39         20.34   \n",
       "4       red woolly hottie white heart.         6        3.39         20.34   \n",
       "\n",
       "   cust_id         country  \n",
       "0    17850  United Kingdom  \n",
       "1    17850  United Kingdom  \n",
       "2    17850  United Kingdom  \n",
       "3    17850  United Kingdom  \n",
       "4    17850  United Kingdom  "
      ]
     },
     "execution_count": 171,
     "metadata": {},
     "output_type": "execute_result"
    }
   ],
   "source": [
    "df_new.head()"
   ]
  },
  {
   "cell_type": "markdown",
   "metadata": {},
   "source": [
    "## 13. How many orders for each country? \n"
   ]
  },
  {
   "cell_type": "code",
   "execution_count": 32,
   "metadata": {},
   "outputs": [
    {
     "data": {
      "text/plain": [
       "country\n",
       "Saudi Arabia                 9\n",
       "Bahrain                     17\n",
       "Czech Republic              25\n",
       "Brazil                      32\n",
       "Lithuania                   35\n",
       "Lebanon                     45\n",
       "RSA                         58\n",
       "European Community          60\n",
       "United Arab Emirates        68\n",
       "Malta                      112\n",
       "Greece                     145\n",
       "Canada                     151\n",
       "USA                        179\n",
       "Iceland                    182\n",
       "Singapore                  222\n",
       "Unspecified                241\n",
       "Israel                     245\n",
       "Japan                      321\n",
       "Poland                     330\n",
       "Denmark                    380\n",
       "Austria                    398\n",
       "Sweden                     450\n",
       "Cyprus                     603\n",
       "Finland                    685\n",
       "Channel Islands            747\n",
       "Italy                      758\n",
       "Norway                    1072\n",
       "Australia                 1184\n",
       "Portugal                  1453\n",
       "Switzerland               1842\n",
       "Belgium                   2031\n",
       "Netherlands               2363\n",
       "Spain                     2480\n",
       "EIRE                      7228\n",
       "France                    8327\n",
       "Germany                   9027\n",
       "United Kingdom          349227\n",
       "Name: invoice_num, dtype: int64"
      ]
     },
     "execution_count": 32,
     "metadata": {},
     "output_type": "execute_result"
    }
   ],
   "source": [
    "group_country_orders = df_new.groupby('country')['invoice_num'].count().sort_values()\n",
    "group_country_orders"
   ]
  },
  {
   "cell_type": "code",
   "execution_count": 33,
   "metadata": {
    "ExecuteTime": {
     "end_time": "2018-09-21T13:33:22.052623Z",
     "start_time": "2018-09-21T13:33:21.482239Z"
    },
    "scrolled": false
   },
   "outputs": [
    {
     "data": {
      "image/png": "[encoded data removed]",
      "text/plain": [
       "<Figure size 1440x720 with 1 Axes>"
      ]
     },
     "metadata": {
      "needs_background": "light"
     },
     "output_type": "display_data"
    }
   ],
   "source": [
    "group_country_orders = df_new.groupby('country')['invoice_num'].count().sort_values()\n",
    "# del group_country_orders['United Kingdom']\n",
    "\n",
    "# plot number of unique customers in each country (with UK)\n",
    "plt.subplots(figsize=(20,10))\n",
    "group_country_orders.plot(kind='barh', fontsize=15, color=color[9])\n",
    "plt.xlabel('Number of Orders', fontsize=15)\n",
    "plt.ylabel('Country', fontsize=15)\n",
    "plt.title('Number of Orders for different Countries', fontsize=15)\n",
    "plt.show()"
   ]
  },
  {
   "cell_type": "code",
   "execution_count": 128,
   "metadata": {},
   "outputs": [],
   "source": [
    "#United Kingdom with 349227 orders has the highest oderes followed by Germany with  9027 and France with 8327"
   ]
  },
  {
   "cell_type": "code",
   "execution_count": 183,
   "metadata": {
    "ExecuteTime": {
     "end_time": "2018-09-21T13:33:39.509730Z",
     "start_time": "2018-09-21T13:33:38.983392Z"
    }
   },
   "outputs": [
    {
     "data": {
      "image/png": "[encoded data removed]",
      "text/plain": [
       "<Figure size 1440x720 with 1 Axes>"
      ]
     },
     "metadata": {
      "needs_background": "light"
     },
     "output_type": "display_data"
    }
   ],
   "source": [
    "group_country_orders = df_new.groupby('country')['invoice_num'].count().sort_values()\n",
    "del group_country_orders['United Kingdom']\n",
    "\n",
    "# plot number of unique customers in each country (without UK)\n",
    "plt.subplots(figsize=(20,10))\n",
    "group_country_orders.plot(kind='barh', fontsize=15, color=color[9])\n",
    "plt.xlabel('Number of Orders', fontsize=15)\n",
    "plt.ylabel('Country', fontsize=15)\n",
    "plt.title('Number of Orders for different Countries', fontsize=15)\n",
    "plt.show()"
   ]
  },
  {
   "cell_type": "markdown",
   "metadata": {},
   "source": [
    "# 14. Orders trend across months"
   ]
  },
  {
   "cell_type": "code",
   "execution_count": 34,
   "metadata": {},
   "outputs": [],
   "source": [
    "df_free = df_new[df_new.unit_price == 0]"
   ]
  },
  {
   "cell_type": "code",
   "execution_count": 35,
   "metadata": {},
   "outputs": [
    {
     "data": {
      "text/html": [
       "<div>\n",
       "<style scoped>\n",
       "    .dataframe tbody tr th:only-of-type {\n",
       "        vertical-align: middle;\n",
       "    }\n",
       "\n",
       "    .dataframe tbody tr th {\n",
       "        vertical-align: top;\n",
       "    }\n",
       "\n",
       "    .dataframe thead th {\n",
       "        text-align: right;\n",
       "    }\n",
       "</style>\n",
       "<table border=\"1\" class=\"dataframe\">\n",
       "  <thead>\n",
       "    <tr style=\"text-align: right;\">\n",
       "      <th></th>\n",
       "      <th>invoice_num</th>\n",
       "      <th>invoice_date</th>\n",
       "      <th>year_month</th>\n",
       "      <th>month</th>\n",
       "      <th>day</th>\n",
       "      <th>hour</th>\n",
       "      <th>stock_code</th>\n",
       "      <th>description</th>\n",
       "      <th>quantity</th>\n",
       "      <th>unit_price</th>\n",
       "      <th>amount_spent</th>\n",
       "      <th>cust_id</th>\n",
       "      <th>country</th>\n",
       "    </tr>\n",
       "  </thead>\n",
       "  <tbody>\n",
       "    <tr>\n",
       "      <th>9302</th>\n",
       "      <td>537197</td>\n",
       "      <td>2010-12-05 14:02:00</td>\n",
       "      <td>201012</td>\n",
       "      <td>12</td>\n",
       "      <td>7</td>\n",
       "      <td>14</td>\n",
       "      <td>22841</td>\n",
       "      <td>round cake tin vintage green</td>\n",
       "      <td>1</td>\n",
       "      <td>0.0</td>\n",
       "      <td>0.0</td>\n",
       "      <td>12647</td>\n",
       "      <td>Germany</td>\n",
       "    </tr>\n",
       "    <tr>\n",
       "      <th>33576</th>\n",
       "      <td>539263</td>\n",
       "      <td>2010-12-16 14:36:00</td>\n",
       "      <td>201012</td>\n",
       "      <td>12</td>\n",
       "      <td>4</td>\n",
       "      <td>14</td>\n",
       "      <td>22580</td>\n",
       "      <td>advent calendar gingham sack</td>\n",
       "      <td>4</td>\n",
       "      <td>0.0</td>\n",
       "      <td>0.0</td>\n",
       "      <td>16560</td>\n",
       "      <td>United Kingdom</td>\n",
       "    </tr>\n",
       "    <tr>\n",
       "      <th>40089</th>\n",
       "      <td>539722</td>\n",
       "      <td>2010-12-21 13:45:00</td>\n",
       "      <td>201012</td>\n",
       "      <td>12</td>\n",
       "      <td>2</td>\n",
       "      <td>13</td>\n",
       "      <td>22423</td>\n",
       "      <td>regency cakestand 3 tier</td>\n",
       "      <td>10</td>\n",
       "      <td>0.0</td>\n",
       "      <td>0.0</td>\n",
       "      <td>14911</td>\n",
       "      <td>EIRE</td>\n",
       "    </tr>\n",
       "    <tr>\n",
       "      <th>47068</th>\n",
       "      <td>540372</td>\n",
       "      <td>2011-01-06 16:41:00</td>\n",
       "      <td>201101</td>\n",
       "      <td>1</td>\n",
       "      <td>4</td>\n",
       "      <td>16</td>\n",
       "      <td>22090</td>\n",
       "      <td>paper bunting retrospot</td>\n",
       "      <td>24</td>\n",
       "      <td>0.0</td>\n",
       "      <td>0.0</td>\n",
       "      <td>13081</td>\n",
       "      <td>United Kingdom</td>\n",
       "    </tr>\n",
       "    <tr>\n",
       "      <th>47070</th>\n",
       "      <td>540372</td>\n",
       "      <td>2011-01-06 16:41:00</td>\n",
       "      <td>201101</td>\n",
       "      <td>1</td>\n",
       "      <td>4</td>\n",
       "      <td>16</td>\n",
       "      <td>22553</td>\n",
       "      <td>plasters in tin skulls</td>\n",
       "      <td>24</td>\n",
       "      <td>0.0</td>\n",
       "      <td>0.0</td>\n",
       "      <td>13081</td>\n",
       "      <td>United Kingdom</td>\n",
       "    </tr>\n",
       "  </tbody>\n",
       "</table>\n",
       "</div>"
      ],
      "text/plain": [
       "      invoice_num        invoice_date  year_month  month  day  hour  \\\n",
       "9302       537197 2010-12-05 14:02:00      201012     12    7    14   \n",
       "33576      539263 2010-12-16 14:36:00      201012     12    4    14   \n",
       "40089      539722 2010-12-21 13:45:00      201012     12    2    13   \n",
       "47068      540372 2011-01-06 16:41:00      201101      1    4    16   \n",
       "47070      540372 2011-01-06 16:41:00      201101      1    4    16   \n",
       "\n",
       "      stock_code                   description  quantity  unit_price  \\\n",
       "9302       22841  round cake tin vintage green         1         0.0   \n",
       "33576      22580  advent calendar gingham sack         4         0.0   \n",
       "40089      22423      regency cakestand 3 tier        10         0.0   \n",
       "47068      22090       paper bunting retrospot        24         0.0   \n",
       "47070      22553        plasters in tin skulls        24         0.0   \n",
       "\n",
       "       amount_spent  cust_id         country  \n",
       "9302            0.0    12647         Germany  \n",
       "33576           0.0    16560  United Kingdom  \n",
       "40089           0.0    14911            EIRE  \n",
       "47068           0.0    13081  United Kingdom  \n",
       "47070           0.0    13081  United Kingdom  "
      ]
     },
     "execution_count": 35,
     "metadata": {},
     "output_type": "execute_result"
    }
   ],
   "source": [
    "df_free.head()"
   ]
  },
  {
   "cell_type": "code",
   "execution_count": 36,
   "metadata": {},
   "outputs": [
    {
     "data": {
      "text/plain": [
       "201012     3\n",
       "201101     3\n",
       "201102     1\n",
       "201103     2\n",
       "201104     2\n",
       "201105     2\n",
       "201107     2\n",
       "201108     6\n",
       "201109     2\n",
       "201110     3\n",
       "201111    14\n",
       "Name: year_month, dtype: int64"
      ]
     },
     "execution_count": 36,
     "metadata": {},
     "output_type": "execute_result"
    }
   ],
   "source": [
    "df_free.year_month.value_counts().sort_index()"
   ]
  },
  {
   "cell_type": "code",
   "execution_count": 37,
   "metadata": {},
   "outputs": [
    {
     "data": {
      "image/png": "[encoded data removed]",
      "text/plain": [
       "<Figure size 864x432 with 1 Axes>"
      ]
     },
     "metadata": {
      "needs_background": "light"
     },
     "output_type": "display_data"
    }
   ],
   "source": [
    "ax = df_free.year_month.value_counts().sort_index().plot(kind='bar',figsize=(12,6), color=color[9])\n",
    "ax.set_xlabel('Month',fontsize=15)\n",
    "ax.set_ylabel('Frequency',fontsize=15)\n",
    "ax.set_title('Frequency for different Months (Dec 2010 - Dec 2011)',fontsize=15)\n",
    "ax.set_xticklabels(('Dec_10','Jan_11','Feb_11','Mar_11','Apr_11','May_11','July_11','Aug_11','Sep_11','Oct_11','Nov_11'), rotation='horizontal', fontsize=13)\n",
    "plt.show()"
   ]
  },
  {
   "cell_type": "code",
   "execution_count": 109,
   "metadata": {},
   "outputs": [],
   "source": [
    "# in the of November 2011 has the highest order trend followed ny August 2011 "
   ]
  },
  {
   "cell_type": "markdown",
   "metadata": {},
   "source": [
    "## 15. How much money spent by each country? "
   ]
  },
  {
   "cell_type": "code",
   "execution_count": 38,
   "metadata": {
    "ExecuteTime": {
     "end_time": "2018-09-21T13:42:35.291397Z",
     "start_time": "2018-09-21T13:42:34.740000Z"
    }
   },
   "outputs": [
    {
     "data": {
      "image/png": "[encoded data removed]",
      "text/plain": [
       "<Figure size 1440x720 with 1 Axes>"
      ]
     },
     "metadata": {
      "needs_background": "light"
     },
     "output_type": "display_data"
    }
   ],
   "source": [
    "group_country_amount_spent = df_new.groupby('country')['amount_spent'].sum().sort_values()\n",
    "# del group_country_orders['United Kingdom']\n",
    "\n",
    "# plot number of unique customers in each country (with UK)\n",
    "plt.subplots(figsize=(20,10))\n",
    "group_country_amount_spent.plot(kind='barh', fontsize=15, color=color[9])\n",
    "plt.xlabel('Money Spent (Dollar)', fontsize=15)\n",
    "plt.ylabel('Country', fontsize=15)\n",
    "plt.title('Money Spent by different Countries', fontsize=15)\n",
    "plt.show()"
   ]
  },
  {
   "cell_type": "code",
   "execution_count": 105,
   "metadata": {},
   "outputs": [
    {
     "data": {
      "text/plain": [
       "country\n",
       "Saudi Arabia            1.459200e+02\n",
       "Bahrain                 5.484000e+02\n",
       "Czech Republic          8.267400e+02\n",
       "RSA                     1.002310e+03\n",
       "Brazil                  1.143600e+03\n",
       "European Community      1.300250e+03\n",
       "Lithuania               1.661060e+03\n",
       "Lebanon                 1.693880e+03\n",
       "United Arab Emirates    1.902280e+03\n",
       "Unspecified             2.660770e+03\n",
       "Malta                   2.725590e+03\n",
       "USA                     3.580390e+03\n",
       "Canada                  3.666380e+03\n",
       "Iceland                 4.310000e+03\n",
       "Greece                  4.760520e+03\n",
       "Israel                  7.215840e+03\n",
       "Poland                  7.334650e+03\n",
       "Austria                 1.019868e+04\n",
       "Cyprus                  1.350285e+04\n",
       "Italy                   1.748324e+04\n",
       "Denmark                 1.895534e+04\n",
       "Channel Islands         2.044054e+04\n",
       "Singapore               2.127929e+04\n",
       "Finland                 2.254608e+04\n",
       "Portugal                3.337584e+04\n",
       "Norway                  3.616544e+04\n",
       "Japan                   3.741637e+04\n",
       "Sweden                  3.836783e+04\n",
       "Belgium                 4.119634e+04\n",
       "Switzerland             5.644395e+04\n",
       "Spain                   6.155856e+04\n",
       "Australia               1.384538e+05\n",
       "France                  2.089343e+05\n",
       "Germany                 2.286784e+05\n",
       "EIRE                    2.652625e+05\n",
       "Netherlands             2.854463e+05\n",
       "United Kingdom          7.285025e+06\n",
       "Name: amount_spent, dtype: float64"
      ]
     },
     "execution_count": 105,
     "metadata": {},
     "output_type": "execute_result"
    }
   ],
   "source": [
    "group_country_amount_spent = df_new.groupby('country')['amount_spent'].sum().sort_values()\n",
    "group_country_amount_spent"
   ]
  },
  {
   "cell_type": "code",
   "execution_count": 110,
   "metadata": {},
   "outputs": [],
   "source": [
    "#Without any surprises United Kingdom is having the highest money spend"
   ]
  },
  {
   "cell_type": "code",
   "execution_count": 107,
   "metadata": {
    "ExecuteTime": {
     "end_time": "2018-09-21T13:42:03.960200Z",
     "start_time": "2018-09-21T13:42:03.414449Z"
    }
   },
   "outputs": [
    {
     "data": {
      "image/png": "[encoded data removed]",
      "text/plain": [
       "<Figure size 1080x576 with 1 Axes>"
      ]
     },
     "metadata": {
      "needs_background": "light"
     },
     "output_type": "display_data"
    }
   ],
   "source": [
    "#\n",
    "group_country_amount_spent = df_new.groupby('country')['amount_spent'].sum().sort_values()\n",
    "del group_country_amount_spent['United Kingdom']\n",
    "\n",
    "# plot number of unique customers in each country (without UK)\n",
    "plt.subplots(figsize=(15,8))\n",
    "group_country_amount_spent.plot(kind='barh', fontsize=12, color=color[9])\n",
    "plt.xlabel('Money Spent (Dollar)', fontsize=12)\n",
    "plt.ylabel('Country', fontsize=12)\n",
    "plt.title('Money Spent by different Countries', fontsize=12)\n",
    "plt.show()"
   ]
  },
  {
   "cell_type": "code",
   "execution_count": 186,
   "metadata": {},
   "outputs": [
    {
     "data": {
      "text/plain": [
       "(392732, 13)"
      ]
     },
     "execution_count": 186,
     "metadata": {},
     "output_type": "execute_result"
    }
   ],
   "source": [
    "df_new.shape"
   ]
  },
  {
   "cell_type": "markdown",
   "metadata": {},
   "source": [
    "# Graphical Representation"
   ]
  },
  {
   "cell_type": "markdown",
   "metadata": {},
   "source": [
    "## Boxplot - Range of unit price"
   ]
  },
  {
   "cell_type": "code",
   "execution_count": 127,
   "metadata": {},
   "outputs": [
    {
     "data": {
      "image/png": "[encoded data removed]",
      "text/plain": [
       "<Figure size 720x576 with 1 Axes>"
      ]
     },
     "metadata": {
      "needs_background": "light"
     },
     "output_type": "display_data"
    }
   ],
   "source": [
    "plt.subplots(figsize=(10,8))\n",
    "sns.boxplot(df_new.unit_price)\n",
    "\n",
    "plt.xlabel('Unit Price')\n",
    "plt.title('Boxplot for Unit Price')\n",
    "plt.show()"
   ]
  },
  {
   "cell_type": "markdown",
   "metadata": {},
   "source": [
    "## Distribution plot - Unit price"
   ]
  },
  {
   "cell_type": "code",
   "execution_count": 39,
   "metadata": {},
   "outputs": [
    {
     "data": {
      "image/png": "[encoded data removed]",
      "text/plain": [
       "<Figure size 1080x720 with 1 Axes>"
      ]
     },
     "metadata": {
      "needs_background": "light"
     },
     "output_type": "display_data"
    }
   ],
   "source": [
    "# Unit price distribition plot qunatity less than 50\n",
    "plt.subplots(figsize=(15,10))\n",
    "sns.distplot(df_new.quantity[df.quantity < 50], label='Unit Price',color=color[9]).legend()\n",
    "\n",
    "plt.xlabel('Unit Price')\n",
    "plt.ylabel('Normalized Distribution')\n",
    "plt.title('Unit Price Distribution')\n",
    "plt.show()"
   ]
  },
  {
   "cell_type": "markdown",
   "metadata": {},
   "source": [
    "## Bar chart - Number of orders for each country"
   ]
  },
  {
   "cell_type": "code",
   "execution_count": 188,
   "metadata": {},
   "outputs": [
    {
     "data": {
      "image/png": "[encoded data removed]",
      "text/plain": [
       "<Figure size 1440x720 with 1 Axes>"
      ]
     },
     "metadata": {
      "needs_background": "light"
     },
     "output_type": "display_data"
    }
   ],
   "source": [
    "group_country_orders = df.groupby('country')['invoice_num'].count().sort_values()\n",
    "del group_country_orders['United Kingdom'] # for illustration purpose\n",
    "\n",
    "# plot number of orders in each country (without UK)\n",
    "plt.subplots(figsize=(20,10))\n",
    "group_country_orders.plot(kind='barh', fontsize=15, color=color[9])\n",
    "plt.xlabel('Number of Orders', fontsize=15)\n",
    "plt.ylabel('Country', fontsize=15)\n",
    "plt.title('Number of Orders for different Countries', fontsize=15)\n",
    "plt.show()"
   ]
  },
  {
   "cell_type": "markdown",
   "metadata": {},
   "source": [
    "# Number of orders per day"
   ]
  },
  {
   "cell_type": "code",
   "execution_count": 189,
   "metadata": {},
   "outputs": [
    {
     "ename": "TypeError",
     "evalue": "unhashable type: 'numpy.ndarray'",
     "output_type": "error",
     "traceback": [
      "\u001b[1;31m---------------------------------------------------------------------------\u001b[0m",
      "\u001b[1;31mTypeError\u001b[0m                                 Traceback (most recent call last)",
      "\u001b[1;32mpandas\\_libs\\hashtable_class_helper.pxi\u001b[0m in \u001b[0;36mpandas._libs.hashtable.PyObjectHashTable.map_locations\u001b[1;34m()\u001b[0m\n",
      "\u001b[1;31mTypeError\u001b[0m: unhashable type: 'numpy.ndarray'"
     ]
    },
    {
     "name": "stderr",
     "output_type": "stream",
     "text": [
      "Exception ignored in: 'pandas._libs.index.IndexEngine._call_map_locations'\n",
      "Traceback (most recent call last):\n",
      "  File \"pandas\\_libs\\hashtable_class_helper.pxi\", line 4588, in pandas._libs.hashtable.PyObjectHashTable.map_locations\n",
      "TypeError: unhashable type: 'numpy.ndarray'\n"
     ]
    },
    {
     "data": {
      "text/plain": [
       "[1]    2863\n",
       "[2]    3185\n",
       "[3]    3455\n",
       "[4]    4033\n",
       "[5]    2831\n",
       "[7]    2169\n",
       "Name: day, dtype: int64"
      ]
     },
     "execution_count": 189,
     "metadata": {},
     "output_type": "execute_result"
    }
   ],
   "source": [
    "df_new.groupby('invoice_num')['day'].unique().value_counts().sort_index()"
   ]
  },
  {
   "cell_type": "code",
   "execution_count": 200,
   "metadata": {},
   "outputs": [
    {
     "data": {
      "image/png": "[encoded data removed]",
      "text/plain": [
       "<Figure size 1296x576 with 1 Axes>"
      ]
     },
     "metadata": {
      "needs_background": "light"
     },
     "output_type": "display_data"
    }
   ],
   "source": [
    "ax = df_new.groupby('invoice_num')['day'].unique().value_counts().sort_index().plot(kind='bar',color=color[9],figsize=(18,8))\n",
    "ax.set_xlabel('Day',fontsize=15)\n",
    "ax.set_ylabel('Number of Orders',fontsize=15)\n",
    "ax.set_title('Number of orders for different Days',fontsize=15)\n",
    "ax.set_xticklabels(('Mon','Tue','Wed','Thur','Fri','Sun'), rotation='horizontal', fontsize=15)\n",
    "\n",
    "#-------------------------------------------------\n",
    "# Annotate bar chart with percentage\n",
    "\n",
    "# create a list to collect the plt.patches data\n",
    "totals = []\n",
    "\n",
    "# find the values and append to list\n",
    "for i in ax.patches:\n",
    "    totals.append(i.get_height())\n",
    "\n",
    "# set individual bar lables using above list\n",
    "total = sum(totals)\n",
    "\n",
    "# set individual bar lables using above list\n",
    "for i in ax.patches:\n",
    "    # get_x pulls left or right; get_height pushes up or down\n",
    "    ax.text(i.get_x()+0.1, i.get_height()+40, \\\n",
    "            str(round((i.get_height()/total)*100, 2))+'%', fontsize=15,\n",
    "                fontweight='bold', color='red')\n",
    "plt.show()"
   ]
  },
  {
   "cell_type": "markdown",
   "metadata": {},
   "source": [
    "# Bar chart & line plot "
   ]
  },
  {
   "cell_type": "code",
   "execution_count": 199,
   "metadata": {},
   "outputs": [
    {
     "data": {
      "text/plain": [
       "[201101,\n",
       " 201102,\n",
       " 201103,\n",
       " 201104,\n",
       " 201105,\n",
       " 201106,\n",
       " 201107,\n",
       " 201108,\n",
       " 201109,\n",
       " 201110,\n",
       " 201111,\n",
       " 201112]"
      ]
     },
     "execution_count": 199,
     "metadata": {},
     "output_type": "execute_result"
    }
   ],
   "source": [
    "df_new.groupby(by=['year_month'])['amount_spent'].sum().index.tolist()[1:]"
   ]
  },
  {
   "cell_type": "code",
   "execution_count": 195,
   "metadata": {},
   "outputs": [
    {
     "data": {
      "text/plain": [
       "year_month\n",
       "201101     568101.310\n",
       "201102     446084.920\n",
       "201103     594081.760\n",
       "201104     468374.331\n",
       "201105     677355.150\n",
       "201106     660046.050\n",
       "201107     598962.901\n",
       "201108     644051.040\n",
       "201109     950690.202\n",
       "201110    1035642.450\n",
       "201111    1156205.610\n",
       "201112     517190.440\n",
       "Name: amount_spent, dtype: float64"
      ]
     },
     "execution_count": 195,
     "metadata": {},
     "output_type": "execute_result"
    }
   ],
   "source": [
    "df_new.groupby(by=['year_month'])['amount_spent'].sum()[1:]"
   ]
  },
  {
   "cell_type": "code",
   "execution_count": 204,
   "metadata": {},
   "outputs": [
    {
     "data": {
      "image/png": "[encoded data removed]",
      "text/plain": [
       "<Figure size 1080x504 with 2 Axes>"
      ]
     },
     "metadata": {
      "needs_background": "light"
     },
     "output_type": "display_data"
    }
   ],
   "source": [
    "fig = plt.figure(figsize=(15, 7))\n",
    "ax1 = fig.add_subplot(111)\n",
    "\n",
    "ax1.set_xlabel('Month',fontsize=15)\n",
    "ax1.set_ylabel('Total Amount Spent ($)',fontsize=15)\n",
    "ax1.set_title('Total Amount Spent for different Months',fontsize=15)\n",
    "ax1.bar(df_new.groupby(by=['year_month'])['amount_spent'].sum().index.tolist()[1:],\n",
    "        df_new.groupby(by=['year_month'])['amount_spent'].sum()[1:],\n",
    "        alpha=0.85,\n",
    "        label='Amount Spent by Month',color=color[9])\n",
    "#----------------\n",
    "ax2 = ax1.twinx()\n",
    "ax2.set_ylabel('Percentage Change of Total Amount Spent (%)',fontsize=15)\n",
    "ax2.plot(df_new.groupby(by=['year_month'])['amount_spent'].sum().index.tolist()[1:], \n",
    "         df_new.groupby(by=['year_month'])['amount_spent'].sum()[1:].pct_change().fillna(0)*100,\n",
    "         label='Percentage change of total amount spent (%)',\n",
    "         color='red')\n",
    "\n",
    "ax1.legend(loc='upper left')\n",
    "ax2.legend(loc='upper right')\n",
    "\n",
    "fig.tight_layout()\n",
    "plt.show()"
   ]
  },
  {
   "cell_type": "code",
   "execution_count": 205,
   "metadata": {},
   "outputs": [],
   "source": [
    "df_new.to_excel (r'C:/Users/salma/OneDrive/Documents/Desktop/Python Assigenment_1/Python Assignment_2/export1_dataframe.xlsx', index = False, header=True)\n",
    "#export the data set into ecxcel "
   ]
  },
  {
   "cell_type": "markdown",
   "metadata": {},
   "source": [
    "# Findings \n",
    "\n",
    "1. Customer from UK (United Kingdon) is having the highest number of orders\n",
    "\n",
    "\n",
    "2. Customer from Netherlands is having the highest amount of money spend on purachase of orders.\n",
    "\n",
    "\n",
    "3. The company receives the highest number of orders from customers in the UK (since it is a UK-based company). Therefore, the TOP 5 countries (including UK) that place the highest number of orders are as below: \n",
    "    ##### United Kingdom \n",
    "\t##### Germany \n",
    "\t##### France\n",
    "\t##### Ireland (EIRE)\n",
    "\t##### Spain\n",
    "    \n",
    "    \n",
    "4. As the company receives the highest number of orders from customers in the UK (since it is a UK-based company), customers in the UK spend the most on their purchases. Therefore, the TOP 5 countries (including UK) that spend the most money on purchases are as below: \n",
    "    ##### United Kingdom \n",
    "\t##### Netherlands\n",
    "\t##### Ireland (EIRE)\n",
    "\t##### Germany\n",
    "\t##### France\n",
    "    \n",
    "    \n",
    "5. Highest sale on November 2011\n",
    "\n",
    "\t \n",
    "6. There are no transactions on Saturday between 1st Dec 2010 - 9th Dec 2011.\n",
    "\n",
    "\n",
    "7. The number of orders received by the company tends to increases from Monday to Thursday and decrese afterward.\n",
    "\n",
    "\n",
    "8. The company receives the highest number of orders at 12:00pm. \n",
    "\n",
    "\n",
    "9. The company tends to give out FREE items for purchases occasionally each month.\n",
    "\n",
    "\t"
   ]
  },
  {
   "cell_type": "code",
   "execution_count": null,
   "metadata": {},
   "outputs": [],
   "source": []
  }
 ],
 "metadata": {
  "kernelspec": {
   "display_name": "Python 3 (ipykernel)",
   "language": "python",
   "name": "python3"
  },
  "language_info": {
   "codemirror_mode": {
    "name": "ipython",
    "version": 3
   },
   "file_extension": ".py",
   "mimetype": "text/x-python",
   "name": "python",
   "nbconvert_exporter": "python",
   "pygments_lexer": "ipython3",
   "version": "3.8.5"
  },
  "toc": {
   "base_numbering": 1,
   "nav_menu": {},
   "number_sections": true,
   "sideBar": true,
   "skip_h1_title": false,
   "title_cell": "Table of Contents",
   "title_sidebar": "Contents",
   "toc_cell": false,
   "toc_position": {
    "height": "calc(100% - 180px)",
    "left": "10px",
    "top": "150px",
    "width": "327px"
   },
   "toc_section_display": true,
   "toc_window_display": true
  }
 },
 "nbformat": 4,
 "nbformat_minor": 2
}
